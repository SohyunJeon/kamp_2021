{
 "cells": [
  {
   "cell_type": "markdown",
   "metadata": {},
   "source": [
    "# 2. AutoEncoder 모델링\n",
    "* 목적\n",
    "    * 공정, 장비, unlabel 등 제품 생산 환경의 제약을 초월한 데이터의 특성을 추출하기 위한 AutoEncoder 모델을 생성\n"
   ]
  },
  {
   "cell_type": "code",
   "execution_count": 5,
   "metadata": {
    "collapsed": false,
    "jupyter": {
     "outputs_hidden": false
    },
    "pycharm": {
     "name": "#%% Package import\n"
    }
   },
   "outputs": [],
   "source": [
    "import pandas as pd\n",
    "import numpy as np\n",
    "import os\n",
    "from datetime import datetime\n",
    "\n",
    "import matplotlib as mpl\n",
    "import matplotlib.pyplot as plt\n",
    "import tensorflow as tf\n",
    "from silence_tensorflow import silence_tensorflow\n",
    "silence_tensorflow()\n",
    "tf.debugging.set_log_device_placement(False)\n",
    "\n",
    "mpl.rcParams['figure.figsize'] = (12, 10)\n",
    "colors = plt.rcParams['axes.prop_cycle'].by_key()['color']"
   ]
  },
  {
   "cell_type": "code",
   "execution_count": 6,
   "metadata": {
    "collapsed": false,
    "jupyter": {
     "outputs_hidden": false
    },
    "pycharm": {
     "name": "#%% Setting\n"
    }
   },
   "outputs": [],
   "source": [
    "BATCH_SIZE = 256\n",
    "EPOCHS = 1000\n",
    "learning_rate = 1e-7"
   ]
  },
  {
   "cell_type": "code",
   "execution_count": 7,
   "metadata": {
    "collapsed": false,
    "jupyter": {
     "outputs_hidden": false
    },
    "pycharm": {
     "name": "#%% Function\n"
    }
   },
   "outputs": [],
   "source": [
    "def mad_score(points):\n",
    "    \"\"\"https://www.itl.nist.gov/div898/handbook/eda/section3/eda35h.htm \"\"\"\n",
    "    m = np.median(points)\n",
    "    ad = np.abs(points - m)\n",
    "    mad = np.median(ad)\n",
    "    return 0.6745*ad / mad\n",
    "\n"
   ]
  },
  {
   "cell_type": "markdown",
   "metadata": {},
   "source": [
    "### Load Datatset"
   ]
  },
  {
   "cell_type": "code",
   "execution_count": 9,
   "metadata": {
    "collapsed": false,
    "jupyter": {
     "outputs_hidden": false
    },
    "pycharm": {
     "name": "#%% Load data\n"
    }
   },
   "outputs": [],
   "source": [
    "X = pd.read_csv('./../dataset/unlabeled_X_scaled.csv')\n",
    "train_cnt = int(len(X) * 0.7)\n",
    "X_train = X.iloc[np.random.choice(X.index, train_cnt, replace=False), :]\n",
    "X_valid = X.drop(X_train.index)\n",
    "\n",
    "train_arr = X_train.values\n",
    "valid_arr = X_valid.values\n",
    "\n",
    "labeled_X = pd.read_csv('./../dataset/labeled_X_train_scaled.csv')\n",
    "labeled_X_arr = labeled_X.values\n",
    "train_arr = np.vstack((train_arr, labeled_X_arr))\n"
   ]
  },
  {
   "cell_type": "markdown",
   "metadata": {},
   "source": [
    "### Define Model"
   ]
  },
  {
   "cell_type": "code",
   "execution_count": 11,
   "metadata": {
    "collapsed": false,
    "jupyter": {
     "outputs_hidden": false
    },
    "pycharm": {
     "name": "#%%\n"
    }
   },
   "outputs": [],
   "source": [
    "def make_autoencoder(train_data: np.array, latent_cnt: int) -> (tf.keras.models, list):\n",
    "    input_dim = train_data.shape[1]\n",
    "    encoding_dim = 15\n",
    "    hidden_dim_1 = int(encoding_dim / 2)\n",
    "    hidden_dim_2 = latent_cnt\n",
    "\n",
    "    autoencoder = tf.keras.models.Sequential([\n",
    "        # encoder\n",
    "        tf.keras.layers.Dense(encoding_dim, activation='tanh',\n",
    "                              activity_regularizer=tf.keras.regularizers.l2(learning_rate)),\n",
    "        tf.keras.layers.Dropout(0.2),\n",
    "        tf.keras.layers.Dense(hidden_dim_1, activation='relu'),\n",
    "        tf.keras.layers.Dense(hidden_dim_2, activation='relu'),\n",
    "        # decoder\n",
    "        tf.keras.layers.Dense(hidden_dim_1, activation='relu'),\n",
    "        tf.keras.layers.Dropout(0.2),\n",
    "        tf.keras.layers.Dense(encoding_dim, activation='relu'),\n",
    "        tf.keras.layers.Dense(input_dim, activation='tanh')\n",
    "    ])\n",
    "    autoencoder.compile(optimizer='adam',\n",
    "                        loss='mse',\n",
    "                        metrics=['acc'])\n",
    "    autoencoder.build(train_data.shape)\n",
    "    print(autoencoder.summary())\n",
    "\n",
    "    # set callback\n",
    "    yyyymmddHHMM = datetime.now().strftime('%Y%m%d%H%M')\n",
    "    log_path = f'./log/{yyyymmddHHMM}_batch{BATCH_SIZE}_layers{len(autoencoder.layers)}'\n",
    "\n",
    "    early_stop = tf.keras.callbacks.EarlyStopping(\n",
    "        monitor='val_loss',\n",
    "        min_delta=0.00001,\n",
    "        patience=10,\n",
    "        verbose=1,\n",
    "        mode='min',\n",
    "        restore_best_weights=True\n",
    "    )\n",
    "    save_model = tf.keras.callbacks.ModelCheckpoint(\n",
    "        filepath=os.path.join('./model', f'autoencoder_{yyyymmddHHMM}.hdf5'),\n",
    "        save_best_only=True,\n",
    "        monitor='val_loss',\n",
    "        verbose=0,\n",
    "        mode='min'\n",
    "    )\n",
    "    tensorboard = tf.keras.callbacks.TensorBoard(\n",
    "        log_path,\n",
    "        update_freq='batch'\n",
    "    )\n",
    "    cb = [early_stop, save_model, tensorboard]\n",
    "\n",
    "    return autoencoder, cb\n",
    "\n",
    "\n",
    "def train_autoencoder(model: tf.keras.models, callback: list, train_data: np.array, valid_data: np.array):\n",
    "        history = model.fit(\n",
    "            train_data, train_data,\n",
    "            shuffle=True,\n",
    "            epochs=EPOCHS,\n",
    "            batch_size=BATCH_SIZE,\n",
    "            callbacks=callback,\n",
    "            validation_data=(valid_data, valid_data)\n",
    "        )\n",
    "        return model, history"
   ]
  },
  {
   "cell_type": "markdown",
   "metadata": {},
   "source": [
    "### Execute train"
   ]
  },
  {
   "cell_type": "code",
   "execution_count": 12,
   "metadata": {
    "collapsed": false,
    "jupyter": {
     "outputs_hidden": false
    },
    "pycharm": {
     "name": "#%%\n"
    }
   },
   "outputs": [
    {
     "name": "stdout",
     "output_type": "stream",
     "text": [
      "Model: \"sequential\"\n",
      "_________________________________________________________________\n",
      "Layer (type)                 Output Shape              Param #   \n",
      "=================================================================\n",
      "dense (Dense)                (560636, 15)              405       \n",
      "_________________________________________________________________\n",
      "dropout (Dropout)            (560636, 15)              0         \n",
      "_________________________________________________________________\n",
      "dense_1 (Dense)              (560636, 7)               112       \n",
      "_________________________________________________________________\n",
      "dense_2 (Dense)              (560636, 3)               24        \n",
      "_________________________________________________________________\n",
      "dense_3 (Dense)              (560636, 7)               28        \n",
      "_________________________________________________________________\n",
      "dropout_1 (Dropout)          (560636, 7)               0         \n",
      "_________________________________________________________________\n",
      "dense_4 (Dense)              (560636, 15)              120       \n",
      "_________________________________________________________________\n",
      "dense_5 (Dense)              (560636, 26)              416       \n",
      "=================================================================\n",
      "Total params: 1,105\n",
      "Trainable params: 1,105\n",
      "Non-trainable params: 0\n",
      "_________________________________________________________________\n",
      "None\n",
      "Epoch 1/1000\n",
      "2190/2190 [==============================] - 11s 5ms/step - loss: 0.0143 - acc: 0.6380 - val_loss: 0.0052 - val_acc: 0.790\n",
      "Epoch 2/1000\n",
      "2190/2190 [==============================] - 10s 5ms/step - loss: 0.0052 - acc: 0.7660 - val_loss: 0.0048 - val_acc: 0.792 - ETA: 1s - loss: 0.0052 - acc: 0.77\n",
      "Epoch 3/1000\n",
      "2190/2190 [==============================] - 12s 6ms/step - loss: 0.0046 - acc: 0.7204 - val_loss: 0.0060 - val_acc: 0.74\n",
      "Epoch 4/1000\n",
      "2190/2190 [==============================] - 13s 6ms/step - loss: 0.0043 - acc: 0.7525 - val_loss: 0.0070 - val_acc: 0.582 - ETA: 1s - loss: 0.0043 - acc: 0.752\n",
      "Epoch 5/1000\n",
      "2190/2190 [==============================] - 11s 5ms/step - loss: 0.0042 - acc: 0.7290 - val_loss: 0.0083 - val_acc: 0.57\n",
      "Epoch 6/1000\n",
      "2190/2190 [==============================] - 10s 4ms/step - loss: 0.0042 - acc: 0.7213 - val_loss: 0.0096 - val_acc: 0.731 - ETA: 0s - loss: 0.0042 - acc: 0.71 - ETA: 0s - loss: 0.0042 - acc: 0.72\n",
      "Epoch 7/1000\n",
      "2190/2190 [==============================] - 10s 5ms/step - loss: 0.0039 - acc: 0.7316 - val_loss: 0.0099 - val_acc: 0.64\n",
      "Epoch 8/1000\n",
      "2190/2190 [==============================] - 9s 4ms/step - loss: 0.0038 - acc: 0.7372 - val_loss: 0.0107 - val_acc: 0.577\n",
      "Epoch 9/1000\n",
      "2190/2190 [==============================] - 12s 5ms/step - loss: 0.0038 - acc: 0.7366 - val_loss: 0.0104 - val_acc: 0.579\n",
      "Epoch 10/1000\n",
      "2190/2190 [==============================] - 8s 4ms/step - loss: 0.0037 - acc: 0.7383 - val_loss: 0.0086 - val_acc: 0.612\n",
      "Epoch 11/1000\n",
      "2190/2190 [==============================] - 10s 5ms/step - loss: 0.0035 - acc: 0.7460 - val_loss: 0.0086 - val_acc: 0.581\n",
      "Epoch 12/1000\n",
      "2184/2190 [============================>.] - ETA: 0s - loss: 0.0033 - acc: 0.746Restoring model weights from the end of the best epoch.\n",
      "2190/2190 [==============================] - 9s 4ms/step - loss: 0.0033 - acc: 0.7467 - val_loss: 0.0085 - val_acc: 0.5801\n",
      "Epoch 00012: early stopping\n"
     ]
    }
   ],
   "source": [
    "latent_cnt = 3\n",
    "model, callback = make_autoencoder(train_arr, latent_cnt)\n",
    "\n",
    "with tf.device('/device:GPU:0'):\n",
    "    model, history = train_autoencoder(model, callback, train_arr, valid_arr)\n"
   ]
  },
  {
   "cell_type": "markdown",
   "metadata": {},
   "source": [
    "### Evaluation"
   ]
  },
  {
   "cell_type": "code",
   "execution_count": 13,
   "metadata": {
    "collapsed": false,
    "jupyter": {
     "outputs_hidden": false
    },
    "pycharm": {
     "name": "#%%\n"
    }
   },
   "outputs": [
    {
     "data": {
      "image/png": "[encoded data removed]",
      "text/plain": [
       "<Figure size 864x720 with 1 Axes>"
      ]
     },
     "metadata": {
      "needs_background": "light"
     },
     "output_type": "display_data"
    }
   ],
   "source": [
    "auto_hist = history.history\n",
    "plt.figure()\n",
    "plt.plot(auto_hist['loss'])\n",
    "plt.plot(auto_hist['val_loss'])\n",
    "plt.title(f'model loss : latent cnt:{latent_cnt}')\n",
    "plt.ylabel('loss')\n",
    "plt.xlabel('epoch')\n",
    "plt.legend(['train', 'test'], loc='upper right')\n",
    "plt.tight_layout()\n",
    "plt.grid()\n",
    "plt.show()"
   ]
  },
  {
   "cell_type": "code",
   "execution_count": null,
   "metadata": {
    "collapsed": false,
    "jupyter": {
     "outputs_hidden": false
    },
    "pycharm": {
     "name": "#%%\n"
    }
   },
   "outputs": [],
   "source": []
  }
 ],
 "metadata": {
  "kernelspec": {
   "display_name": "Python 3 (ipykernel)",
   "language": "python",
   "name": "python3"
  },
  "language_info": {
   "codemirror_mode": {
    "name": "ipython",
    "version": 3
   },
   "file_extension": ".py",
   "mimetype": "text/x-python",
   "name": "python",
   "nbconvert_exporter": "python",
   "pygments_lexer": "ipython3",
   "version": "3.8.12"
  }
 },
 "nbformat": 4,
 "nbformat_minor": 4
}
