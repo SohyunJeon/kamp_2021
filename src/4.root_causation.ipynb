{
 "cells": [
  {
   "cell_type": "code",
   "execution_count": 117,
   "metadata": {
    "collapsed": true,
    "jupyter": {
     "outputs_hidden": true
    },
    "pycharm": {
     "name": "#%% Package import\n"
    }
   },
   "outputs": [],
   "source": [
    "import pickle\n",
    "import plotly\n",
    "import pandas as pd\n",
    "import numpy as np\n",
    "from scipy.stats import pointbiserialr\n",
    "import matplotlib.pyplot as plt\n",
    "import shap\n",
    "import tensorflow as tf\n",
    "import plotly.offline as py\n",
    "# import plotly_express as px\n",
    "import plotly.io as pio\n",
    "import plotly.graph_objects as go\n",
    "\n",
    "from itertools import chain, repeat\n",
    "from collections import Counter\n",
    "# from IPython.core.interactiveshell import InteractiveShell\n",
    "# import ipywidgets as widgets|\n",
    "# from ipywidgets import interact, interact_manual\n",
    "pio.renderers.default='jupyterlab'\n",
    "\n"
   ]
  },
  {
   "cell_type": "markdown",
   "metadata": {
    "pycharm": {
     "name": "#%% md\n"
    }
   },
   "source": [
    "## [ 불량 유형별 원인 인자 탐색 ]"
   ]
  },
  {
   "cell_type": "code",
   "execution_count": 126,
   "metadata": {
    "collapsed": false,
    "jupyter": {
     "outputs_hidden": false
    },
    "pycharm": {
     "name": "#%%\n"
    }
   },
   "outputs": [
    {
     "name": "stderr",
     "output_type": "stream",
     "text": [
      "C:\\Users\\sherr\\anaconda3\\envs\\kamp_2021\\lib\\site-packages\\sklearn\\base.py:324: UserWarning:\n",
      "\n",
      "Trying to unpickle estimator Normalizer from version 0.24.2 when using version 1.0.1. This might lead to breaking code or invalid results. Use at your own risk. For more info please refer to:\n",
      "https://scikit-learn.org/stable/modules/model_persistence.html#security-maintainability-limitations\n",
      "\n",
      "C:\\Users\\sherr\\anaconda3\\envs\\kamp_2021\\lib\\site-packages\\sklearn\\base.py:324: UserWarning:\n",
      "\n",
      "Trying to unpickle estimator MinMaxScaler from version 0.24.2 when using version 1.0.1. This might lead to breaking code or invalid results. Use at your own risk. For more info please refer to:\n",
      "https://scikit-learn.org/stable/modules/model_persistence.html#security-maintainability-limitations\n",
      "\n",
      "C:\\Users\\sherr\\anaconda3\\envs\\kamp_2021\\lib\\site-packages\\sklearn\\base.py:324: UserWarning:\n",
      "\n",
      "Trying to unpickle estimator Pipeline from version 0.24.2 when using version 1.0.1. This might lead to breaking code or invalid results. Use at your own risk. For more info please refer to:\n",
      "https://scikit-learn.org/stable/modules/model_persistence.html#security-maintainability-limitations\n",
      "\n"
     ]
    }
   ],
   "source": [
    "labeled = pd.read_csv('./../dataset/labeled_new.csv')\n",
    "labeled = labeled.drop_duplicates()\n",
    "X_train_scaled = pd.read_csv('./../dataset/labeled_X_train_scaled.csv')\n",
    "\n",
    "with open('./../dataset/scaling_model.pkl', 'rb') as f:\n",
    "    scaling = pickle.load(f)"
   ]
  },
  {
   "cell_type": "code",
   "execution_count": 133,
   "metadata": {
    "collapsed": false,
    "jupyter": {
     "outputs_hidden": false
    },
    "pycharm": {
     "name": "#%%\n"
    }
   },
   "outputs": [
    {
     "name": "stderr",
     "output_type": "stream",
     "text": [
      "C:\\Users\\sherr\\anaconda3\\envs\\kamp_2021\\lib\\site-packages\\sklearn\\base.py:438: UserWarning:\n",
      "\n",
      "X has feature names, but Normalizer was fitted without feature names\n",
      "\n"
     ]
    }
   ],
   "source": [
    "labeled_scaling = scaling.transform(labeled.iloc[:, 9:])\n",
    "labeled_scaling = pd.DataFrame(labeled_scaling, columns = labeled.iloc[:, 9:].columns)\n",
    "labeled_scaling['Reason'] = labeled['Reason']"
   ]
  },
  {
   "cell_type": "code",
   "execution_count": 129,
   "metadata": {
    "collapsed": false,
    "jupyter": {
     "outputs_hidden": false
    },
    "pycharm": {
     "name": "#%% Load Model\n"
    }
   },
   "outputs": [
    {
     "name": "stdout",
     "output_type": "stream",
     "text": [
      "Model: \"sequential_7\"\n",
      "_________________________________________________________________\n",
      "Layer (type)                 Output Shape              Param #   \n",
      "=================================================================\n",
      "dense_6 (Dense)              (None, 15)                405       \n",
      "_________________________________________________________________\n",
      "dropout_2 (Dropout)          (None, 15)                0         \n",
      "_________________________________________________________________\n",
      "dense_7 (Dense)              (None, 7)                 112       \n",
      "_________________________________________________________________\n",
      "dense_8 (Dense)              (None, 3)                 24        \n",
      "_________________________________________________________________\n",
      "dense_add_1 (Dense)          (None, 3)                 12        \n",
      "_________________________________________________________________\n",
      "dense_add_2 (Dense)          (None, 3)                 12        \n",
      "_________________________________________________________________\n",
      "dense_add_3 (Dense)          (None, 3)                 12        \n",
      "_________________________________________________________________\n",
      "dense_add_4 (Dense)          (None, 3)                 12        \n",
      "_________________________________________________________________\n",
      "dense_add_5 (Dense)          (None, 1)                 4         \n",
      "=================================================================\n",
      "Total params: 593\n",
      "Trainable params: 593\n",
      "Non-trainable params: 0\n",
      "_________________________________________________________________\n"
     ]
    }
   ],
   "source": [
    "model_path = './../model/self_superviser_classifier.hdf5'\n",
    "model = tf.keras.models.load_model(model_path)\n",
    "model.summary()\n"
   ]
  },
  {
   "cell_type": "code",
   "execution_count": 130,
   "metadata": {
    "collapsed": false,
    "jupyter": {
     "outputs_hidden": false
    },
    "pycharm": {
     "name": "#%% Make shap explainer\n"
    }
   },
   "outputs": [],
   "source": [
    "explainer_shap = shap.DeepExplainer(model=model, data=X_train_scaled.values)"
   ]
  },
  {
   "cell_type": "code",
   "execution_count": 134,
   "metadata": {
    "collapsed": false,
    "jupyter": {
     "outputs_hidden": false
    },
    "pycharm": {
     "name": "#%% 불량 유형별 데이터 준비\n"
    }
   },
   "outputs": [],
   "source": [
    "def get_total_shap_values(shap_values, data):\n",
    "    total_shap = np.mean(abs(shap_values), axis=0)\n",
    "    total_shap_df = pd.Series(total_shap, index=data.columns)\n",
    "    total_shap_df = total_shap_df.sort_values(ascending=False)\n",
    "    return total_shap_df\n",
    "\n",
    "\n",
    "fail_types = set(labeled['Reason']) # {'초기허용불량', '가스', 'None', '미성형'}\n",
    "fail_df = labeled_scaling.loc[labeled_scaling['Reason']!= 'None', :]\n",
    "\n",
    "\n",
    "fail_df['Reason'].value_counts()\n",
    "\n",
    "type_1_df = fail_df.loc[fail_df['Reason']=='가스', X_train_scaled.columns]\n",
    "type_2_df = fail_df.loc[fail_df['Reason']=='초기허용불량', X_train_scaled.columns]\n",
    "type_3_df = fail_df.loc[fail_df['Reason']=='미성형', X_train_scaled.columns]\n",
    "\n",
    "## shape value\n",
    "type_1_shap_values = explainer_shap.shap_values(type_1_df.values)\n",
    "type_2_shap_values = explainer_shap.shap_values(type_2_df.values)\n",
    "type_3_shap_values = explainer_shap.shap_values(type_3_df.values)\n"
   ]
  },
  {
   "cell_type": "code",
   "execution_count": 135,
   "metadata": {
    "collapsed": false,
    "jupyter": {
     "outputs_hidden": false
    },
    "pycharm": {
     "name": "#%% 원인인자 파악\n"
    }
   },
   "outputs": [],
   "source": [
    "class ShapeObject:\n",
    "    def __init__(self, base_values, data, values, feature_names):\n",
    "        self.base_values = base_values\n",
    "        self.data = data\n",
    "        self.values = values\n",
    "        self.feature_names = feature_names\n",
    "\n",
    "def draw_observe_waterfall(explainer, data, original_data, charting_cnt=2):\n",
    "    if len(data.index) > charting_cnt:\n",
    "        charting_idx = np.random.choice(data.index, charting_cnt, replace=False)\n",
    "    else:\n",
    "        charting_idx = data.index\n",
    "    shap_values = explainer.shap_values(data.loc[charting_idx, ].values)[0]\n",
    "\n",
    "    for i, data_i in enumerate(charting_idx):\n",
    "        original_value = original_data.loc[data_i, :]\n",
    "        shap_obj = ShapeObject(base_values=explainer.expected_value[0],\n",
    "                               values=shap_values[i, :],\n",
    "                               feature_names=data.columns,\n",
    "                               data=original_value)\n",
    "\n",
    "        plt.figure(figsize=(10,10))\n",
    "        shap.plots.waterfall(shap_obj, show=False)\n",
    "        plt.title(f'index: {data_i}')\n",
    "        plt.tight_layout()\n",
    "        plt.show()\n"
   ]
  },
  {
   "cell_type": "code",
   "execution_count": 136,
   "metadata": {
    "collapsed": false,
    "jupyter": {
     "outputs_hidden": false
    },
    "pycharm": {
     "name": "#%% case 3-1 : 가스\n"
    }
   },
   "outputs": [
    {
     "data": {
      "image/png": "[encoded data removed]",
      "text/plain": [
       "<Figure size 1440x720 with 2 Axes>"
      ]
     },
     "metadata": {
      "needs_background": "light"
     },
     "output_type": "display_data"
    },
    {
     "data": {
      "image/png": "[encoded data removed]",
      "text/plain": [
       "<Figure size 1440x720 with 1 Axes>"
      ]
     },
     "metadata": {
      "needs_background": "light"
     },
     "output_type": "display_data"
    },
    {
     "name": "stdout",
     "output_type": "stream",
     "text": [
      "Average_Screw_RPM           0.127284\n",
      "Clamp_Open_Position         0.069465\n",
      "Max_Back_Pressure           0.031705\n",
      "Injection_Time              0.010504\n",
      "Mold_Temperature_3          0.009299\n",
      "Cushion_Position            0.006620\n",
      "Filling_Time                0.006599\n",
      "Mold_Temperature_4          0.004162\n",
      "Max_Screw_RPM               0.004084\n",
      "Barrel_Temperature_2        0.003240\n",
      "Max_Injection_Speed         0.003159\n",
      "Max_Injection_Pressure      0.002870\n",
      "Barrel_Temperature_6        0.002544\n",
      "Average_Back_Pressure       0.002130\n",
      "Barrel_Temperature_3        0.001778\n",
      "Clamp_Close_Time            0.001657\n",
      "Plasticizing_Position       0.001117\n",
      "Barrel_Temperature_1        0.001079\n",
      "Max_Switch_Over_Pressure    0.000402\n",
      "Plasticizing_Time           0.000390\n",
      "Switch_Over_Position        0.000317\n",
      "Hopper_Temperature          0.000245\n",
      "Barrel_Temperature_4        0.000173\n",
      "Barrel_Temperature_5        0.000164\n",
      "Cycle_Time                  0.000039\n",
      "Barrel_Temperature_7        0.000000\n",
      "dtype: float64\n"
     ]
    }
   ],
   "source": [
    "shap.summary_plot(type_1_shap_values[0], type_1_df, plot_size=(20, 10))\n",
    "shap.summary_plot(type_1_shap_values, type_1_df, plot_size=(20,10))\n",
    "type1_total_shap_df = get_total_shap_values(type_1_shap_values[0], type_1_df)\n",
    "print(type1_total_shap_df)\n",
    "\n"
   ]
  },
  {
   "cell_type": "code",
   "execution_count": 137,
   "metadata": {
    "collapsed": false,
    "jupyter": {
     "outputs_hidden": false
    },
    "pycharm": {
     "name": "#%% case 3-2 : 초기허용불량\n"
    }
   },
   "outputs": [
    {
     "data": {
      "image/png": "[encoded data removed]",
      "text/plain": [
       "<Figure size 1440x720 with 2 Axes>"
      ]
     },
     "metadata": {
      "needs_background": "light"
     },
     "output_type": "display_data"
    },
    {
     "data": {
      "image/png": "[encoded data removed]",
      "text/plain": [
       "<Figure size 1440x720 with 1 Axes>"
      ]
     },
     "metadata": {
      "needs_background": "light"
     },
     "output_type": "display_data"
    },
    {
     "name": "stdout",
     "output_type": "stream",
     "text": [
      "Average_Screw_RPM           0.180104\n",
      "Max_Back_Pressure           0.034855\n",
      "Filling_Time                0.012233\n",
      "Mold_Temperature_3          0.009612\n",
      "Injection_Time              0.008055\n",
      "Clamp_Open_Position         0.004047\n",
      "Average_Back_Pressure       0.003698\n",
      "Mold_Temperature_4          0.003465\n",
      "Cushion_Position            0.003412\n",
      "Max_Screw_RPM               0.001958\n",
      "Max_Injection_Speed         0.001400\n",
      "Barrel_Temperature_2        0.001329\n",
      "Barrel_Temperature_6        0.001263\n",
      "Clamp_Close_Time            0.000916\n",
      "Max_Injection_Pressure      0.000801\n",
      "Max_Switch_Over_Pressure    0.000688\n",
      "Barrel_Temperature_3        0.000657\n",
      "Plasticizing_Position       0.000626\n",
      "Switch_Over_Position        0.000515\n",
      "Barrel_Temperature_1        0.000487\n",
      "Plasticizing_Time           0.000462\n",
      "Hopper_Temperature          0.000170\n",
      "Barrel_Temperature_4        0.000097\n",
      "Barrel_Temperature_5        0.000075\n",
      "Cycle_Time                  0.000007\n",
      "Barrel_Temperature_7        0.000000\n",
      "dtype: float64\n"
     ]
    }
   ],
   "source": [
    "shap.summary_plot(type_2_shap_values[0], type_2_df, plot_size=(20, 10))\n",
    "shap.summary_plot(type_2_shap_values, type_2_df, plot_size=(20,10))\n",
    "type2_total_shap_df = get_total_shap_values(type_2_shap_values[0], type_2_df)\n",
    "print(type2_total_shap_df)"
   ]
  },
  {
   "cell_type": "code",
   "execution_count": 138,
   "metadata": {
    "collapsed": false,
    "jupyter": {
     "outputs_hidden": false
    },
    "pycharm": {
     "name": "#%% case 3-3 : 미성형\n"
    }
   },
   "outputs": [
    {
     "data": {
      "image/png": "[encoded data removed]",
      "text/plain": [
       "<Figure size 1440x720 with 2 Axes>"
      ]
     },
     "metadata": {
      "needs_background": "light"
     },
     "output_type": "display_data"
    },
    {
     "data": {
      "image/png": "[encoded data removed]",
      "text/plain": [
       "<Figure size 1440x720 with 1 Axes>"
      ]
     },
     "metadata": {
      "needs_background": "light"
     },
     "output_type": "display_data"
    },
    {
     "name": "stdout",
     "output_type": "stream",
     "text": [
      "Average_Screw_RPM           0.120784\n",
      "Clamp_Open_Position         0.073884\n",
      "Max_Back_Pressure           0.032684\n",
      "Injection_Time              0.011214\n",
      "Mold_Temperature_3          0.008275\n",
      "Filling_Time                0.007241\n",
      "Cushion_Position            0.006382\n",
      "Max_Screw_RPM               0.004008\n",
      "Mold_Temperature_4          0.003600\n",
      "Max_Injection_Speed         0.003209\n",
      "Barrel_Temperature_2        0.003195\n",
      "Max_Injection_Pressure      0.002827\n",
      "Barrel_Temperature_6        0.002462\n",
      "Average_Back_Pressure       0.002103\n",
      "Barrel_Temperature_3        0.001747\n",
      "Clamp_Close_Time            0.001587\n",
      "Plasticizing_Position       0.001169\n",
      "Barrel_Temperature_1        0.001055\n",
      "Plasticizing_Time           0.000385\n",
      "Max_Switch_Over_Pressure    0.000365\n",
      "Switch_Over_Position        0.000280\n",
      "Hopper_Temperature          0.000256\n",
      "Barrel_Temperature_4        0.000166\n",
      "Barrel_Temperature_5        0.000166\n",
      "Cycle_Time                  0.000040\n",
      "Barrel_Temperature_7        0.000000\n",
      "dtype: float64\n"
     ]
    }
   ],
   "source": [
    "shap.summary_plot(type_3_shap_values[0], type_3_df, plot_size=(20, 10))\n",
    "shap.summary_plot(type_3_shap_values, type_3_df, plot_size=(20,10))\n",
    "type3_total_shap_df = get_total_shap_values(type_3_shap_values[0], type_3_df)\n",
    "print(type3_total_shap_df)\n"
   ]
  },
  {
   "cell_type": "markdown",
   "metadata": {
    "pycharm": {
     "name": "#%% md\n"
    }
   },
   "source": [
    "## [불량 원인 인자에 따른 근본 요인 분석]\n"
   ]
  },
  {
   "cell_type": "markdown",
   "metadata": {
    "pycharm": {
     "name": "#%% md\n"
    }
   },
   "source": [
    "### 타입별 top10원인 인자"
   ]
  },
  {
   "cell_type": "code",
   "execution_count": 139,
   "metadata": {
    "collapsed": false,
    "jupyter": {
     "outputs_hidden": false
    },
    "pycharm": {
     "name": "#%%\n"
    }
   },
   "outputs": [
    {
     "name": "stdout",
     "output_type": "stream",
     "text": [
      "Type1: Index(['Average_Screw_RPM', 'Clamp_Open_Position', 'Max_Back_Pressure',\n",
      "       'Injection_Time', 'Mold_Temperature_3', 'Cushion_Position',\n",
      "       'Filling_Time', 'Mold_Temperature_4', 'Max_Screw_RPM',\n",
      "       'Barrel_Temperature_2'],\n",
      "      dtype='object')\n",
      "Type2: Index(['Average_Screw_RPM', 'Max_Back_Pressure', 'Filling_Time',\n",
      "       'Mold_Temperature_3', 'Injection_Time', 'Clamp_Open_Position',\n",
      "       'Average_Back_Pressure', 'Mold_Temperature_4', 'Cushion_Position',\n",
      "       'Max_Screw_RPM'],\n",
      "      dtype='object')\n",
      "Type3: Index(['Average_Screw_RPM', 'Clamp_Open_Position', 'Max_Back_Pressure',\n",
      "       'Injection_Time', 'Mold_Temperature_3', 'Filling_Time',\n",
      "       'Cushion_Position', 'Max_Screw_RPM', 'Mold_Temperature_4',\n",
      "       'Max_Injection_Speed'],\n",
      "      dtype='object')\n"
     ]
    }
   ],
   "source": [
    "factor_cnt = 10\n",
    "type_1_factor = type1_total_shap_df[:factor_cnt]\n",
    "type_1_factor_list = type_1_factor.index\n",
    "print('Type1:', type_1_factor_list)\n",
    "\n",
    "type_2_factor = type2_total_shap_df[:factor_cnt]\n",
    "type_2_factor_list = type_2_factor.index\n",
    "print('Type2:', type_2_factor_list)\n",
    "\n",
    "type_3_factor = type3_total_shap_df[:factor_cnt]\n",
    "type_3_factor_list = type_3_factor.index\n",
    "print('Type3:', type_3_factor_list)\n",
    "\n"
   ]
  },
  {
   "cell_type": "code",
   "execution_count": 140,
   "metadata": {
    "collapsed": false,
    "jupyter": {
     "outputs_hidden": false
    },
    "pycharm": {
     "name": "#%% Load dataset\n"
    }
   },
   "outputs": [],
   "source": [
    "data = pd.read_csv('./../dataset/labeled_new.csv')"
   ]
  },
  {
   "cell_type": "markdown",
   "metadata": {
    "pycharm": {
     "name": "#%% md\n"
    }
   },
   "source": [
    "### 공정 순서 별 컬럼 정의"
   ]
  },
  {
   "cell_type": "code",
   "execution_count": 141,
   "metadata": {
    "collapsed": false,
    "jupyter": {
     "outputs_hidden": false
    },
    "pycharm": {
     "name": "#%%\n"
    }
   },
   "outputs": [],
   "source": [
    "y_col = ['PassOrFail']\n",
    "step_1_cols = ['Plasticizing_Time', 'Hopper_Temperature', 'Mold_Temperature_3', 'Mold_Temperature_4']\n",
    "step_from_1_cols = ['Cycle_Time', 'Barrel_Temperature_1', 'Barrel_Temperature_2', 'Barrel_Temperature_3', 'Barrel_Temperature_4',\n",
    "                    'Barrel_Temperature_5', 'Barrel_Temperature_6', 'Barrel_Temperature_7']\n",
    "step_2_cols = ['Clamp_Close_Time']\n",
    "step_3_cols = ['Injection_Time', 'Filling_Time', 'Max_Injection_Speed']\n",
    "step_from_3_cols = ['Max_Screw_RPM', 'Average_Screw_RPM', 'Max_Injection_Pressure']\n",
    "step_4_cols = ['Cushion_Position', 'Switch_Over_Position', 'Plasticizing_Position', 'Max_Switch_Over_Pressure']\n",
    "step_5_cols = ['Max_Back_Pressure', 'Average_Back_Pressure']\n",
    "step_6_cols = ['Clamp_Open_Position']\n",
    "\n",
    "total_cols = y_col+step_1_cols+step_from_1_cols+step_2_cols+step_3_cols+step_from_3_cols+step_4_cols+step_5_cols+step_6_cols\n",
    "\n",
    "total_cols_2d = [y_col, step_1_cols, step_from_1_cols, step_2_cols,\n",
    "                 step_3_cols, step_from_3_cols, step_4_cols, step_5_cols, step_6_cols]\n",
    "\n",
    "total_cols = list(chain(*total_cols_2d))\n"
   ]
  },
  {
   "cell_type": "markdown",
   "metadata": {
    "pycharm": {
     "name": "#%% md\n"
    }
   },
   "source": [
    "### X인자 간 상관관계"
   ]
  },
  {
   "cell_type": "code",
   "execution_count": 142,
   "metadata": {
    "collapsed": false,
    "jupyter": {
     "outputs_hidden": false
    },
    "pycharm": {
     "name": "#%%\n"
    }
   },
   "outputs": [],
   "source": [
    "def get_pearson_corr_df(data):\n",
    "    corr_mat = np.corrcoef(data.values, rowvar=False)\n",
    "    corr_df = pd.DataFrame(corr_mat, columns=data.columns, index=data.columns)\n",
    "    return corr_df"
   ]
  },
  {
   "cell_type": "code",
   "execution_count": 148,
   "metadata": {
    "collapsed": false,
    "jupyter": {
     "outputs_hidden": false
    },
    "pycharm": {
     "name": "#%%\n"
    }
   },
   "outputs": [
    {
     "name": "stderr",
     "output_type": "stream",
     "text": [
      "C:\\Users\\sherr\\anaconda3\\envs\\kamp_2021\\lib\\site-packages\\numpy\\lib\\function_base.py:2642: RuntimeWarning:\n",
      "\n",
      "invalid value encountered in true_divide\n",
      "\n",
      "C:\\Users\\sherr\\anaconda3\\envs\\kamp_2021\\lib\\site-packages\\numpy\\lib\\function_base.py:2643: RuntimeWarning:\n",
      "\n",
      "invalid value encountered in true_divide\n",
      "\n"
     ]
    }
   ],
   "source": [
    "type1_X_corr = get_pearson_corr_df(type_1_df)\n",
    "type2_X_corr = get_pearson_corr_df(type_2_df)\n",
    "type3_X_corr = get_pearson_corr_df(type_3_df)"
   ]
  },
  {
   "cell_type": "code",
   "execution_count": 144,
   "metadata": {
    "collapsed": false,
    "jupyter": {
     "outputs_hidden": false
    },
    "pycharm": {
     "name": "#%%\n"
    }
   },
   "outputs": [
    {
     "data": {
      "text/html": [
       "<div>\n",
       "<style scoped>\n",
       "    .dataframe tbody tr th:only-of-type {\n",
       "        vertical-align: middle;\n",
       "    }\n",
       "\n",
       "    .dataframe tbody tr th {\n",
       "        vertical-align: top;\n",
       "    }\n",
       "\n",
       "    .dataframe thead th {\n",
       "        text-align: right;\n",
       "    }\n",
       "</style>\n",
       "<table border=\"1\" class=\"dataframe\">\n",
       "  <thead>\n",
       "    <tr style=\"text-align: right;\">\n",
       "      <th></th>\n",
       "      <th>Injection_Time</th>\n",
       "      <th>Filling_Time</th>\n",
       "      <th>Plasticizing_Time</th>\n",
       "      <th>Cycle_Time</th>\n",
       "      <th>Clamp_Close_Time</th>\n",
       "      <th>Cushion_Position</th>\n",
       "      <th>Switch_Over_Position</th>\n",
       "      <th>Plasticizing_Position</th>\n",
       "      <th>Clamp_Open_Position</th>\n",
       "      <th>Max_Injection_Speed</th>\n",
       "      <th>...</th>\n",
       "      <th>Barrel_Temperature_1</th>\n",
       "      <th>Barrel_Temperature_2</th>\n",
       "      <th>Barrel_Temperature_3</th>\n",
       "      <th>Barrel_Temperature_4</th>\n",
       "      <th>Barrel_Temperature_5</th>\n",
       "      <th>Barrel_Temperature_6</th>\n",
       "      <th>Barrel_Temperature_7</th>\n",
       "      <th>Hopper_Temperature</th>\n",
       "      <th>Mold_Temperature_3</th>\n",
       "      <th>Mold_Temperature_4</th>\n",
       "    </tr>\n",
       "  </thead>\n",
       "  <tbody>\n",
       "    <tr>\n",
       "      <th>Injection_Time</th>\n",
       "      <td>1.000000</td>\n",
       "      <td>0.999912</td>\n",
       "      <td>0.929487</td>\n",
       "      <td>-0.986013</td>\n",
       "      <td>-0.970124</td>\n",
       "      <td>-0.981837</td>\n",
       "      <td>NaN</td>\n",
       "      <td>0.946467</td>\n",
       "      <td>0.999956</td>\n",
       "      <td>-0.998870</td>\n",
       "      <td>...</td>\n",
       "      <td>-0.986789</td>\n",
       "      <td>-0.986902</td>\n",
       "      <td>-0.986367</td>\n",
       "      <td>-0.984534</td>\n",
       "      <td>-0.987263</td>\n",
       "      <td>-0.984524</td>\n",
       "      <td>NaN</td>\n",
       "      <td>-0.978135</td>\n",
       "      <td>-0.718491</td>\n",
       "      <td>-0.268426</td>\n",
       "    </tr>\n",
       "    <tr>\n",
       "      <th>Filling_Time</th>\n",
       "      <td>0.999912</td>\n",
       "      <td>1.000000</td>\n",
       "      <td>0.931659</td>\n",
       "      <td>-0.984740</td>\n",
       "      <td>-0.968397</td>\n",
       "      <td>-0.980451</td>\n",
       "      <td>NaN</td>\n",
       "      <td>0.948377</td>\n",
       "      <td>0.999749</td>\n",
       "      <td>-0.998705</td>\n",
       "      <td>...</td>\n",
       "      <td>-0.985615</td>\n",
       "      <td>-0.985670</td>\n",
       "      <td>-0.985122</td>\n",
       "      <td>-0.983250</td>\n",
       "      <td>-0.986065</td>\n",
       "      <td>-0.983201</td>\n",
       "      <td>NaN</td>\n",
       "      <td>-0.977289</td>\n",
       "      <td>-0.715588</td>\n",
       "      <td>-0.263337</td>\n",
       "    </tr>\n",
       "    <tr>\n",
       "      <th>Plasticizing_Time</th>\n",
       "      <td>0.929487</td>\n",
       "      <td>0.931659</td>\n",
       "      <td>1.000000</td>\n",
       "      <td>-0.855655</td>\n",
       "      <td>-0.812660</td>\n",
       "      <td>-0.843043</td>\n",
       "      <td>NaN</td>\n",
       "      <td>0.998180</td>\n",
       "      <td>0.927433</td>\n",
       "      <td>-0.912170</td>\n",
       "      <td>...</td>\n",
       "      <td>-0.858130</td>\n",
       "      <td>-0.858478</td>\n",
       "      <td>-0.856611</td>\n",
       "      <td>-0.851879</td>\n",
       "      <td>-0.859598</td>\n",
       "      <td>-0.851002</td>\n",
       "      <td>NaN</td>\n",
       "      <td>-0.872558</td>\n",
       "      <td>-0.533668</td>\n",
       "      <td>-0.004123</td>\n",
       "    </tr>\n",
       "    <tr>\n",
       "      <th>Cycle_Time</th>\n",
       "      <td>-0.986013</td>\n",
       "      <td>-0.984740</td>\n",
       "      <td>-0.855655</td>\n",
       "      <td>1.000000</td>\n",
       "      <td>0.996813</td>\n",
       "      <td>0.999633</td>\n",
       "      <td>NaN</td>\n",
       "      <td>-0.879791</td>\n",
       "      <td>-0.986981</td>\n",
       "      <td>0.991979</td>\n",
       "      <td>...</td>\n",
       "      <td>0.999774</td>\n",
       "      <td>0.999819</td>\n",
       "      <td>0.999876</td>\n",
       "      <td>0.999488</td>\n",
       "      <td>0.999809</td>\n",
       "      <td>0.999827</td>\n",
       "      <td>NaN</td>\n",
       "      <td>0.980857</td>\n",
       "      <td>0.770991</td>\n",
       "      <td>0.378979</td>\n",
       "    </tr>\n",
       "    <tr>\n",
       "      <th>Clamp_Close_Time</th>\n",
       "      <td>-0.970124</td>\n",
       "      <td>-0.968397</td>\n",
       "      <td>-0.812660</td>\n",
       "      <td>0.996813</td>\n",
       "      <td>1.000000</td>\n",
       "      <td>0.998477</td>\n",
       "      <td>NaN</td>\n",
       "      <td>-0.840117</td>\n",
       "      <td>-0.971495</td>\n",
       "      <td>0.979510</td>\n",
       "      <td>...</td>\n",
       "      <td>0.996381</td>\n",
       "      <td>0.996330</td>\n",
       "      <td>0.996710</td>\n",
       "      <td>0.996986</td>\n",
       "      <td>0.996210</td>\n",
       "      <td>0.997489</td>\n",
       "      <td>NaN</td>\n",
       "      <td>0.972736</td>\n",
       "      <td>0.787620</td>\n",
       "      <td>0.425567</td>\n",
       "    </tr>\n",
       "    <tr>\n",
       "      <th>Cushion_Position</th>\n",
       "      <td>-0.981837</td>\n",
       "      <td>-0.980451</td>\n",
       "      <td>-0.843043</td>\n",
       "      <td>0.999633</td>\n",
       "      <td>0.998477</td>\n",
       "      <td>1.000000</td>\n",
       "      <td>NaN</td>\n",
       "      <td>-0.868161</td>\n",
       "      <td>-0.982911</td>\n",
       "      <td>0.988910</td>\n",
       "      <td>...</td>\n",
       "      <td>0.999455</td>\n",
       "      <td>0.999463</td>\n",
       "      <td>0.999619</td>\n",
       "      <td>0.999492</td>\n",
       "      <td>0.999434</td>\n",
       "      <td>0.999828</td>\n",
       "      <td>NaN</td>\n",
       "      <td>0.978951</td>\n",
       "      <td>0.777781</td>\n",
       "      <td>0.394850</td>\n",
       "    </tr>\n",
       "    <tr>\n",
       "      <th>Switch_Over_Position</th>\n",
       "      <td>NaN</td>\n",
       "      <td>NaN</td>\n",
       "      <td>NaN</td>\n",
       "      <td>NaN</td>\n",
       "      <td>NaN</td>\n",
       "      <td>NaN</td>\n",
       "      <td>NaN</td>\n",
       "      <td>NaN</td>\n",
       "      <td>NaN</td>\n",
       "      <td>NaN</td>\n",
       "      <td>...</td>\n",
       "      <td>NaN</td>\n",
       "      <td>NaN</td>\n",
       "      <td>NaN</td>\n",
       "      <td>NaN</td>\n",
       "      <td>NaN</td>\n",
       "      <td>NaN</td>\n",
       "      <td>NaN</td>\n",
       "      <td>NaN</td>\n",
       "      <td>NaN</td>\n",
       "      <td>NaN</td>\n",
       "    </tr>\n",
       "    <tr>\n",
       "      <th>Plasticizing_Position</th>\n",
       "      <td>0.946467</td>\n",
       "      <td>0.948377</td>\n",
       "      <td>0.998180</td>\n",
       "      <td>-0.879791</td>\n",
       "      <td>-0.840117</td>\n",
       "      <td>-0.868161</td>\n",
       "      <td>NaN</td>\n",
       "      <td>1.000000</td>\n",
       "      <td>0.944678</td>\n",
       "      <td>-0.931120</td>\n",
       "      <td>...</td>\n",
       "      <td>-0.882023</td>\n",
       "      <td>-0.882377</td>\n",
       "      <td>-0.880696</td>\n",
       "      <td>-0.876009</td>\n",
       "      <td>-0.883350</td>\n",
       "      <td>-0.875543</td>\n",
       "      <td>NaN</td>\n",
       "      <td>-0.895026</td>\n",
       "      <td>-0.556880</td>\n",
       "      <td>-0.030037</td>\n",
       "    </tr>\n",
       "    <tr>\n",
       "      <th>Clamp_Open_Position</th>\n",
       "      <td>0.999956</td>\n",
       "      <td>0.999749</td>\n",
       "      <td>0.927433</td>\n",
       "      <td>-0.986981</td>\n",
       "      <td>-0.971495</td>\n",
       "      <td>-0.982911</td>\n",
       "      <td>NaN</td>\n",
       "      <td>0.944678</td>\n",
       "      <td>1.000000</td>\n",
       "      <td>-0.998939</td>\n",
       "      <td>...</td>\n",
       "      <td>-0.987695</td>\n",
       "      <td>-0.987830</td>\n",
       "      <td>-0.987310</td>\n",
       "      <td>-0.985494</td>\n",
       "      <td>-0.988172</td>\n",
       "      <td>-0.985531</td>\n",
       "      <td>NaN</td>\n",
       "      <td>-0.978860</td>\n",
       "      <td>-0.720654</td>\n",
       "      <td>-0.272347</td>\n",
       "    </tr>\n",
       "    <tr>\n",
       "      <th>Max_Injection_Speed</th>\n",
       "      <td>-0.998870</td>\n",
       "      <td>-0.998705</td>\n",
       "      <td>-0.912170</td>\n",
       "      <td>0.991979</td>\n",
       "      <td>0.979510</td>\n",
       "      <td>0.988910</td>\n",
       "      <td>NaN</td>\n",
       "      <td>-0.931120</td>\n",
       "      <td>-0.998939</td>\n",
       "      <td>1.000000</td>\n",
       "      <td>...</td>\n",
       "      <td>0.992638</td>\n",
       "      <td>0.992653</td>\n",
       "      <td>0.992286</td>\n",
       "      <td>0.990896</td>\n",
       "      <td>0.992940</td>\n",
       "      <td>0.990892</td>\n",
       "      <td>NaN</td>\n",
       "      <td>0.981019</td>\n",
       "      <td>0.734356</td>\n",
       "      <td>0.298058</td>\n",
       "    </tr>\n",
       "    <tr>\n",
       "      <th>Max_Screw_RPM</th>\n",
       "      <td>-0.982075</td>\n",
       "      <td>-0.980770</td>\n",
       "      <td>-0.844567</td>\n",
       "      <td>0.999129</td>\n",
       "      <td>0.997584</td>\n",
       "      <td>0.999347</td>\n",
       "      <td>NaN</td>\n",
       "      <td>-0.869808</td>\n",
       "      <td>-0.983095</td>\n",
       "      <td>0.989048</td>\n",
       "      <td>...</td>\n",
       "      <td>0.999022</td>\n",
       "      <td>0.998971</td>\n",
       "      <td>0.999128</td>\n",
       "      <td>0.998670</td>\n",
       "      <td>0.998966</td>\n",
       "      <td>0.999262</td>\n",
       "      <td>NaN</td>\n",
       "      <td>0.977135</td>\n",
       "      <td>0.779141</td>\n",
       "      <td>0.395683</td>\n",
       "    </tr>\n",
       "    <tr>\n",
       "      <th>Average_Screw_RPM</th>\n",
       "      <td>0.094905</td>\n",
       "      <td>0.088485</td>\n",
       "      <td>-0.277007</td>\n",
       "      <td>-0.258662</td>\n",
       "      <td>-0.333084</td>\n",
       "      <td>-0.281877</td>\n",
       "      <td>NaN</td>\n",
       "      <td>-0.231369</td>\n",
       "      <td>0.100471</td>\n",
       "      <td>-0.138436</td>\n",
       "      <td>...</td>\n",
       "      <td>-0.254155</td>\n",
       "      <td>-0.253368</td>\n",
       "      <td>-0.256946</td>\n",
       "      <td>-0.265928</td>\n",
       "      <td>-0.251442</td>\n",
       "      <td>-0.267323</td>\n",
       "      <td>NaN</td>\n",
       "      <td>-0.189451</td>\n",
       "      <td>-0.449735</td>\n",
       "      <td>-0.717438</td>\n",
       "    </tr>\n",
       "    <tr>\n",
       "      <th>Max_Injection_Pressure</th>\n",
       "      <td>-0.978991</td>\n",
       "      <td>-0.977425</td>\n",
       "      <td>-0.835586</td>\n",
       "      <td>0.999149</td>\n",
       "      <td>0.999025</td>\n",
       "      <td>0.999806</td>\n",
       "      <td>NaN</td>\n",
       "      <td>-0.861132</td>\n",
       "      <td>-0.980187</td>\n",
       "      <td>0.986528</td>\n",
       "      <td>...</td>\n",
       "      <td>0.998809</td>\n",
       "      <td>0.998925</td>\n",
       "      <td>0.999097</td>\n",
       "      <td>0.999052</td>\n",
       "      <td>0.998814</td>\n",
       "      <td>0.999414</td>\n",
       "      <td>NaN</td>\n",
       "      <td>0.976695</td>\n",
       "      <td>0.781583</td>\n",
       "      <td>0.405496</td>\n",
       "    </tr>\n",
       "    <tr>\n",
       "      <th>Max_Switch_Over_Pressure</th>\n",
       "      <td>-0.271405</td>\n",
       "      <td>-0.265269</td>\n",
       "      <td>0.098202</td>\n",
       "      <td>0.426379</td>\n",
       "      <td>0.494777</td>\n",
       "      <td>0.447829</td>\n",
       "      <td>NaN</td>\n",
       "      <td>0.052343</td>\n",
       "      <td>-0.276628</td>\n",
       "      <td>0.313346</td>\n",
       "      <td>...</td>\n",
       "      <td>0.421785</td>\n",
       "      <td>0.421940</td>\n",
       "      <td>0.424668</td>\n",
       "      <td>0.432680</td>\n",
       "      <td>0.419337</td>\n",
       "      <td>0.434114</td>\n",
       "      <td>NaN</td>\n",
       "      <td>0.349472</td>\n",
       "      <td>0.567960</td>\n",
       "      <td>0.752753</td>\n",
       "    </tr>\n",
       "    <tr>\n",
       "      <th>Max_Back_Pressure</th>\n",
       "      <td>-0.992478</td>\n",
       "      <td>-0.991343</td>\n",
       "      <td>-0.879633</td>\n",
       "      <td>0.998516</td>\n",
       "      <td>0.991554</td>\n",
       "      <td>0.997023</td>\n",
       "      <td>NaN</td>\n",
       "      <td>-0.901332</td>\n",
       "      <td>-0.993264</td>\n",
       "      <td>0.996105</td>\n",
       "      <td>...</td>\n",
       "      <td>0.998545</td>\n",
       "      <td>0.998704</td>\n",
       "      <td>0.998538</td>\n",
       "      <td>0.998051</td>\n",
       "      <td>0.998715</td>\n",
       "      <td>0.997972</td>\n",
       "      <td>NaN</td>\n",
       "      <td>0.981143</td>\n",
       "      <td>0.758178</td>\n",
       "      <td>0.350366</td>\n",
       "    </tr>\n",
       "    <tr>\n",
       "      <th>Average_Back_Pressure</th>\n",
       "      <td>-0.969580</td>\n",
       "      <td>-0.967618</td>\n",
       "      <td>-0.815602</td>\n",
       "      <td>0.995635</td>\n",
       "      <td>0.997803</td>\n",
       "      <td>0.996888</td>\n",
       "      <td>NaN</td>\n",
       "      <td>-0.841565</td>\n",
       "      <td>-0.971039</td>\n",
       "      <td>0.978307</td>\n",
       "      <td>...</td>\n",
       "      <td>0.994978</td>\n",
       "      <td>0.995046</td>\n",
       "      <td>0.995351</td>\n",
       "      <td>0.996298</td>\n",
       "      <td>0.994763</td>\n",
       "      <td>0.996062</td>\n",
       "      <td>NaN</td>\n",
       "      <td>0.967619</td>\n",
       "      <td>0.790140</td>\n",
       "      <td>0.433393</td>\n",
       "    </tr>\n",
       "    <tr>\n",
       "      <th>Barrel_Temperature_1</th>\n",
       "      <td>-0.986789</td>\n",
       "      <td>-0.985615</td>\n",
       "      <td>-0.858130</td>\n",
       "      <td>0.999774</td>\n",
       "      <td>0.996381</td>\n",
       "      <td>0.999455</td>\n",
       "      <td>NaN</td>\n",
       "      <td>-0.882023</td>\n",
       "      <td>-0.987695</td>\n",
       "      <td>0.992638</td>\n",
       "      <td>...</td>\n",
       "      <td>1.000000</td>\n",
       "      <td>0.999748</td>\n",
       "      <td>0.999879</td>\n",
       "      <td>0.999406</td>\n",
       "      <td>0.999855</td>\n",
       "      <td>0.999696</td>\n",
       "      <td>NaN</td>\n",
       "      <td>0.981642</td>\n",
       "      <td>0.771113</td>\n",
       "      <td>0.377278</td>\n",
       "    </tr>\n",
       "    <tr>\n",
       "      <th>Barrel_Temperature_2</th>\n",
       "      <td>-0.986902</td>\n",
       "      <td>-0.985670</td>\n",
       "      <td>-0.858478</td>\n",
       "      <td>0.999819</td>\n",
       "      <td>0.996330</td>\n",
       "      <td>0.999463</td>\n",
       "      <td>NaN</td>\n",
       "      <td>-0.882377</td>\n",
       "      <td>-0.987830</td>\n",
       "      <td>0.992653</td>\n",
       "      <td>...</td>\n",
       "      <td>0.999748</td>\n",
       "      <td>1.000000</td>\n",
       "      <td>0.999813</td>\n",
       "      <td>0.999378</td>\n",
       "      <td>0.999814</td>\n",
       "      <td>0.999733</td>\n",
       "      <td>NaN</td>\n",
       "      <td>0.980401</td>\n",
       "      <td>0.769959</td>\n",
       "      <td>0.375909</td>\n",
       "    </tr>\n",
       "    <tr>\n",
       "      <th>Barrel_Temperature_3</th>\n",
       "      <td>-0.986367</td>\n",
       "      <td>-0.985122</td>\n",
       "      <td>-0.856611</td>\n",
       "      <td>0.999876</td>\n",
       "      <td>0.996710</td>\n",
       "      <td>0.999619</td>\n",
       "      <td>NaN</td>\n",
       "      <td>-0.880696</td>\n",
       "      <td>-0.987310</td>\n",
       "      <td>0.992286</td>\n",
       "      <td>...</td>\n",
       "      <td>0.999879</td>\n",
       "      <td>0.999813</td>\n",
       "      <td>1.000000</td>\n",
       "      <td>0.999525</td>\n",
       "      <td>0.999879</td>\n",
       "      <td>0.999856</td>\n",
       "      <td>NaN</td>\n",
       "      <td>0.981197</td>\n",
       "      <td>0.771496</td>\n",
       "      <td>0.378672</td>\n",
       "    </tr>\n",
       "    <tr>\n",
       "      <th>Barrel_Temperature_4</th>\n",
       "      <td>-0.984534</td>\n",
       "      <td>-0.983250</td>\n",
       "      <td>-0.851879</td>\n",
       "      <td>0.999488</td>\n",
       "      <td>0.996986</td>\n",
       "      <td>0.999492</td>\n",
       "      <td>NaN</td>\n",
       "      <td>-0.876009</td>\n",
       "      <td>-0.985494</td>\n",
       "      <td>0.990896</td>\n",
       "      <td>...</td>\n",
       "      <td>0.999406</td>\n",
       "      <td>0.999378</td>\n",
       "      <td>0.999525</td>\n",
       "      <td>1.000000</td>\n",
       "      <td>0.999385</td>\n",
       "      <td>0.999593</td>\n",
       "      <td>NaN</td>\n",
       "      <td>0.979782</td>\n",
       "      <td>0.770625</td>\n",
       "      <td>0.381163</td>\n",
       "    </tr>\n",
       "    <tr>\n",
       "      <th>Barrel_Temperature_5</th>\n",
       "      <td>-0.987263</td>\n",
       "      <td>-0.986065</td>\n",
       "      <td>-0.859598</td>\n",
       "      <td>0.999809</td>\n",
       "      <td>0.996210</td>\n",
       "      <td>0.999434</td>\n",
       "      <td>NaN</td>\n",
       "      <td>-0.883350</td>\n",
       "      <td>-0.988172</td>\n",
       "      <td>0.992940</td>\n",
       "      <td>...</td>\n",
       "      <td>0.999855</td>\n",
       "      <td>0.999814</td>\n",
       "      <td>0.999879</td>\n",
       "      <td>0.999385</td>\n",
       "      <td>1.000000</td>\n",
       "      <td>0.999740</td>\n",
       "      <td>NaN</td>\n",
       "      <td>0.981246</td>\n",
       "      <td>0.772232</td>\n",
       "      <td>0.377700</td>\n",
       "    </tr>\n",
       "    <tr>\n",
       "      <th>Barrel_Temperature_6</th>\n",
       "      <td>-0.984524</td>\n",
       "      <td>-0.983201</td>\n",
       "      <td>-0.851002</td>\n",
       "      <td>0.999827</td>\n",
       "      <td>0.997489</td>\n",
       "      <td>0.999828</td>\n",
       "      <td>NaN</td>\n",
       "      <td>-0.875543</td>\n",
       "      <td>-0.985531</td>\n",
       "      <td>0.990892</td>\n",
       "      <td>...</td>\n",
       "      <td>0.999696</td>\n",
       "      <td>0.999733</td>\n",
       "      <td>0.999856</td>\n",
       "      <td>0.999593</td>\n",
       "      <td>0.999740</td>\n",
       "      <td>1.000000</td>\n",
       "      <td>NaN</td>\n",
       "      <td>0.980199</td>\n",
       "      <td>0.775290</td>\n",
       "      <td>0.386495</td>\n",
       "    </tr>\n",
       "    <tr>\n",
       "      <th>Barrel_Temperature_7</th>\n",
       "      <td>NaN</td>\n",
       "      <td>NaN</td>\n",
       "      <td>NaN</td>\n",
       "      <td>NaN</td>\n",
       "      <td>NaN</td>\n",
       "      <td>NaN</td>\n",
       "      <td>NaN</td>\n",
       "      <td>NaN</td>\n",
       "      <td>NaN</td>\n",
       "      <td>NaN</td>\n",
       "      <td>...</td>\n",
       "      <td>NaN</td>\n",
       "      <td>NaN</td>\n",
       "      <td>NaN</td>\n",
       "      <td>NaN</td>\n",
       "      <td>NaN</td>\n",
       "      <td>NaN</td>\n",
       "      <td>NaN</td>\n",
       "      <td>NaN</td>\n",
       "      <td>NaN</td>\n",
       "      <td>NaN</td>\n",
       "    </tr>\n",
       "    <tr>\n",
       "      <th>Hopper_Temperature</th>\n",
       "      <td>-0.978135</td>\n",
       "      <td>-0.977289</td>\n",
       "      <td>-0.872558</td>\n",
       "      <td>0.980857</td>\n",
       "      <td>0.972736</td>\n",
       "      <td>0.978951</td>\n",
       "      <td>NaN</td>\n",
       "      <td>-0.895026</td>\n",
       "      <td>-0.978860</td>\n",
       "      <td>0.981019</td>\n",
       "      <td>...</td>\n",
       "      <td>0.981642</td>\n",
       "      <td>0.980401</td>\n",
       "      <td>0.981197</td>\n",
       "      <td>0.979782</td>\n",
       "      <td>0.981246</td>\n",
       "      <td>0.980199</td>\n",
       "      <td>NaN</td>\n",
       "      <td>1.000000</td>\n",
       "      <td>0.755928</td>\n",
       "      <td>0.333094</td>\n",
       "    </tr>\n",
       "    <tr>\n",
       "      <th>Mold_Temperature_3</th>\n",
       "      <td>-0.718491</td>\n",
       "      <td>-0.715588</td>\n",
       "      <td>-0.533668</td>\n",
       "      <td>0.770991</td>\n",
       "      <td>0.787620</td>\n",
       "      <td>0.777781</td>\n",
       "      <td>NaN</td>\n",
       "      <td>-0.556880</td>\n",
       "      <td>-0.720654</td>\n",
       "      <td>0.734356</td>\n",
       "      <td>...</td>\n",
       "      <td>0.771113</td>\n",
       "      <td>0.769959</td>\n",
       "      <td>0.771496</td>\n",
       "      <td>0.770625</td>\n",
       "      <td>0.772232</td>\n",
       "      <td>0.775290</td>\n",
       "      <td>NaN</td>\n",
       "      <td>0.755928</td>\n",
       "      <td>1.000000</td>\n",
       "      <td>0.835177</td>\n",
       "    </tr>\n",
       "    <tr>\n",
       "      <th>Mold_Temperature_4</th>\n",
       "      <td>-0.268426</td>\n",
       "      <td>-0.263337</td>\n",
       "      <td>-0.004123</td>\n",
       "      <td>0.378979</td>\n",
       "      <td>0.425567</td>\n",
       "      <td>0.394850</td>\n",
       "      <td>NaN</td>\n",
       "      <td>-0.030037</td>\n",
       "      <td>-0.272347</td>\n",
       "      <td>0.298058</td>\n",
       "      <td>...</td>\n",
       "      <td>0.377278</td>\n",
       "      <td>0.375909</td>\n",
       "      <td>0.378672</td>\n",
       "      <td>0.381163</td>\n",
       "      <td>0.377700</td>\n",
       "      <td>0.386495</td>\n",
       "      <td>NaN</td>\n",
       "      <td>0.333094</td>\n",
       "      <td>0.835177</td>\n",
       "      <td>1.000000</td>\n",
       "    </tr>\n",
       "  </tbody>\n",
       "</table>\n",
       "<p>26 rows × 26 columns</p>\n",
       "</div>"
      ],
      "text/plain": [
       "                          Injection_Time  Filling_Time  Plasticizing_Time  \\\n",
       "Injection_Time                  1.000000      0.999912           0.929487   \n",
       "Filling_Time                    0.999912      1.000000           0.931659   \n",
       "Plasticizing_Time               0.929487      0.931659           1.000000   \n",
       "Cycle_Time                     -0.986013     -0.984740          -0.855655   \n",
       "Clamp_Close_Time               -0.970124     -0.968397          -0.812660   \n",
       "Cushion_Position               -0.981837     -0.980451          -0.843043   \n",
       "Switch_Over_Position                 NaN           NaN                NaN   \n",
       "Plasticizing_Position           0.946467      0.948377           0.998180   \n",
       "Clamp_Open_Position             0.999956      0.999749           0.927433   \n",
       "Max_Injection_Speed            -0.998870     -0.998705          -0.912170   \n",
       "Max_Screw_RPM                  -0.982075     -0.980770          -0.844567   \n",
       "Average_Screw_RPM               0.094905      0.088485          -0.277007   \n",
       "Max_Injection_Pressure         -0.978991     -0.977425          -0.835586   \n",
       "Max_Switch_Over_Pressure       -0.271405     -0.265269           0.098202   \n",
       "Max_Back_Pressure              -0.992478     -0.991343          -0.879633   \n",
       "Average_Back_Pressure          -0.969580     -0.967618          -0.815602   \n",
       "Barrel_Temperature_1           -0.986789     -0.985615          -0.858130   \n",
       "Barrel_Temperature_2           -0.986902     -0.985670          -0.858478   \n",
       "Barrel_Temperature_3           -0.986367     -0.985122          -0.856611   \n",
       "Barrel_Temperature_4           -0.984534     -0.983250          -0.851879   \n",
       "Barrel_Temperature_5           -0.987263     -0.986065          -0.859598   \n",
       "Barrel_Temperature_6           -0.984524     -0.983201          -0.851002   \n",
       "Barrel_Temperature_7                 NaN           NaN                NaN   \n",
       "Hopper_Temperature             -0.978135     -0.977289          -0.872558   \n",
       "Mold_Temperature_3             -0.718491     -0.715588          -0.533668   \n",
       "Mold_Temperature_4             -0.268426     -0.263337          -0.004123   \n",
       "\n",
       "                          Cycle_Time  Clamp_Close_Time  Cushion_Position  \\\n",
       "Injection_Time             -0.986013         -0.970124         -0.981837   \n",
       "Filling_Time               -0.984740         -0.968397         -0.980451   \n",
       "Plasticizing_Time          -0.855655         -0.812660         -0.843043   \n",
       "Cycle_Time                  1.000000          0.996813          0.999633   \n",
       "Clamp_Close_Time            0.996813          1.000000          0.998477   \n",
       "Cushion_Position            0.999633          0.998477          1.000000   \n",
       "Switch_Over_Position             NaN               NaN               NaN   \n",
       "Plasticizing_Position      -0.879791         -0.840117         -0.868161   \n",
       "Clamp_Open_Position        -0.986981         -0.971495         -0.982911   \n",
       "Max_Injection_Speed         0.991979          0.979510          0.988910   \n",
       "Max_Screw_RPM               0.999129          0.997584          0.999347   \n",
       "Average_Screw_RPM          -0.258662         -0.333084         -0.281877   \n",
       "Max_Injection_Pressure      0.999149          0.999025          0.999806   \n",
       "Max_Switch_Over_Pressure    0.426379          0.494777          0.447829   \n",
       "Max_Back_Pressure           0.998516          0.991554          0.997023   \n",
       "Average_Back_Pressure       0.995635          0.997803          0.996888   \n",
       "Barrel_Temperature_1        0.999774          0.996381          0.999455   \n",
       "Barrel_Temperature_2        0.999819          0.996330          0.999463   \n",
       "Barrel_Temperature_3        0.999876          0.996710          0.999619   \n",
       "Barrel_Temperature_4        0.999488          0.996986          0.999492   \n",
       "Barrel_Temperature_5        0.999809          0.996210          0.999434   \n",
       "Barrel_Temperature_6        0.999827          0.997489          0.999828   \n",
       "Barrel_Temperature_7             NaN               NaN               NaN   \n",
       "Hopper_Temperature          0.980857          0.972736          0.978951   \n",
       "Mold_Temperature_3          0.770991          0.787620          0.777781   \n",
       "Mold_Temperature_4          0.378979          0.425567          0.394850   \n",
       "\n",
       "                          Switch_Over_Position  Plasticizing_Position  \\\n",
       "Injection_Time                             NaN               0.946467   \n",
       "Filling_Time                               NaN               0.948377   \n",
       "Plasticizing_Time                          NaN               0.998180   \n",
       "Cycle_Time                                 NaN              -0.879791   \n",
       "Clamp_Close_Time                           NaN              -0.840117   \n",
       "Cushion_Position                           NaN              -0.868161   \n",
       "Switch_Over_Position                       NaN                    NaN   \n",
       "Plasticizing_Position                      NaN               1.000000   \n",
       "Clamp_Open_Position                        NaN               0.944678   \n",
       "Max_Injection_Speed                        NaN              -0.931120   \n",
       "Max_Screw_RPM                              NaN              -0.869808   \n",
       "Average_Screw_RPM                          NaN              -0.231369   \n",
       "Max_Injection_Pressure                     NaN              -0.861132   \n",
       "Max_Switch_Over_Pressure                   NaN               0.052343   \n",
       "Max_Back_Pressure                          NaN              -0.901332   \n",
       "Average_Back_Pressure                      NaN              -0.841565   \n",
       "Barrel_Temperature_1                       NaN              -0.882023   \n",
       "Barrel_Temperature_2                       NaN              -0.882377   \n",
       "Barrel_Temperature_3                       NaN              -0.880696   \n",
       "Barrel_Temperature_4                       NaN              -0.876009   \n",
       "Barrel_Temperature_5                       NaN              -0.883350   \n",
       "Barrel_Temperature_6                       NaN              -0.875543   \n",
       "Barrel_Temperature_7                       NaN                    NaN   \n",
       "Hopper_Temperature                         NaN              -0.895026   \n",
       "Mold_Temperature_3                         NaN              -0.556880   \n",
       "Mold_Temperature_4                         NaN              -0.030037   \n",
       "\n",
       "                          Clamp_Open_Position  Max_Injection_Speed  ...  \\\n",
       "Injection_Time                       0.999956            -0.998870  ...   \n",
       "Filling_Time                         0.999749            -0.998705  ...   \n",
       "Plasticizing_Time                    0.927433            -0.912170  ...   \n",
       "Cycle_Time                          -0.986981             0.991979  ...   \n",
       "Clamp_Close_Time                    -0.971495             0.979510  ...   \n",
       "Cushion_Position                    -0.982911             0.988910  ...   \n",
       "Switch_Over_Position                      NaN                  NaN  ...   \n",
       "Plasticizing_Position                0.944678            -0.931120  ...   \n",
       "Clamp_Open_Position                  1.000000            -0.998939  ...   \n",
       "Max_Injection_Speed                 -0.998939             1.000000  ...   \n",
       "Max_Screw_RPM                       -0.983095             0.989048  ...   \n",
       "Average_Screw_RPM                    0.100471            -0.138436  ...   \n",
       "Max_Injection_Pressure              -0.980187             0.986528  ...   \n",
       "Max_Switch_Over_Pressure            -0.276628             0.313346  ...   \n",
       "Max_Back_Pressure                   -0.993264             0.996105  ...   \n",
       "Average_Back_Pressure               -0.971039             0.978307  ...   \n",
       "Barrel_Temperature_1                -0.987695             0.992638  ...   \n",
       "Barrel_Temperature_2                -0.987830             0.992653  ...   \n",
       "Barrel_Temperature_3                -0.987310             0.992286  ...   \n",
       "Barrel_Temperature_4                -0.985494             0.990896  ...   \n",
       "Barrel_Temperature_5                -0.988172             0.992940  ...   \n",
       "Barrel_Temperature_6                -0.985531             0.990892  ...   \n",
       "Barrel_Temperature_7                      NaN                  NaN  ...   \n",
       "Hopper_Temperature                  -0.978860             0.981019  ...   \n",
       "Mold_Temperature_3                  -0.720654             0.734356  ...   \n",
       "Mold_Temperature_4                  -0.272347             0.298058  ...   \n",
       "\n",
       "                          Barrel_Temperature_1  Barrel_Temperature_2  \\\n",
       "Injection_Time                       -0.986789             -0.986902   \n",
       "Filling_Time                         -0.985615             -0.985670   \n",
       "Plasticizing_Time                    -0.858130             -0.858478   \n",
       "Cycle_Time                            0.999774              0.999819   \n",
       "Clamp_Close_Time                      0.996381              0.996330   \n",
       "Cushion_Position                      0.999455              0.999463   \n",
       "Switch_Over_Position                       NaN                   NaN   \n",
       "Plasticizing_Position                -0.882023             -0.882377   \n",
       "Clamp_Open_Position                  -0.987695             -0.987830   \n",
       "Max_Injection_Speed                   0.992638              0.992653   \n",
       "Max_Screw_RPM                         0.999022              0.998971   \n",
       "Average_Screw_RPM                    -0.254155             -0.253368   \n",
       "Max_Injection_Pressure                0.998809              0.998925   \n",
       "Max_Switch_Over_Pressure              0.421785              0.421940   \n",
       "Max_Back_Pressure                     0.998545              0.998704   \n",
       "Average_Back_Pressure                 0.994978              0.995046   \n",
       "Barrel_Temperature_1                  1.000000              0.999748   \n",
       "Barrel_Temperature_2                  0.999748              1.000000   \n",
       "Barrel_Temperature_3                  0.999879              0.999813   \n",
       "Barrel_Temperature_4                  0.999406              0.999378   \n",
       "Barrel_Temperature_5                  0.999855              0.999814   \n",
       "Barrel_Temperature_6                  0.999696              0.999733   \n",
       "Barrel_Temperature_7                       NaN                   NaN   \n",
       "Hopper_Temperature                    0.981642              0.980401   \n",
       "Mold_Temperature_3                    0.771113              0.769959   \n",
       "Mold_Temperature_4                    0.377278              0.375909   \n",
       "\n",
       "                          Barrel_Temperature_3  Barrel_Temperature_4  \\\n",
       "Injection_Time                       -0.986367             -0.984534   \n",
       "Filling_Time                         -0.985122             -0.983250   \n",
       "Plasticizing_Time                    -0.856611             -0.851879   \n",
       "Cycle_Time                            0.999876              0.999488   \n",
       "Clamp_Close_Time                      0.996710              0.996986   \n",
       "Cushion_Position                      0.999619              0.999492   \n",
       "Switch_Over_Position                       NaN                   NaN   \n",
       "Plasticizing_Position                -0.880696             -0.876009   \n",
       "Clamp_Open_Position                  -0.987310             -0.985494   \n",
       "Max_Injection_Speed                   0.992286              0.990896   \n",
       "Max_Screw_RPM                         0.999128              0.998670   \n",
       "Average_Screw_RPM                    -0.256946             -0.265928   \n",
       "Max_Injection_Pressure                0.999097              0.999052   \n",
       "Max_Switch_Over_Pressure              0.424668              0.432680   \n",
       "Max_Back_Pressure                     0.998538              0.998051   \n",
       "Average_Back_Pressure                 0.995351              0.996298   \n",
       "Barrel_Temperature_1                  0.999879              0.999406   \n",
       "Barrel_Temperature_2                  0.999813              0.999378   \n",
       "Barrel_Temperature_3                  1.000000              0.999525   \n",
       "Barrel_Temperature_4                  0.999525              1.000000   \n",
       "Barrel_Temperature_5                  0.999879              0.999385   \n",
       "Barrel_Temperature_6                  0.999856              0.999593   \n",
       "Barrel_Temperature_7                       NaN                   NaN   \n",
       "Hopper_Temperature                    0.981197              0.979782   \n",
       "Mold_Temperature_3                    0.771496              0.770625   \n",
       "Mold_Temperature_4                    0.378672              0.381163   \n",
       "\n",
       "                          Barrel_Temperature_5  Barrel_Temperature_6  \\\n",
       "Injection_Time                       -0.987263             -0.984524   \n",
       "Filling_Time                         -0.986065             -0.983201   \n",
       "Plasticizing_Time                    -0.859598             -0.851002   \n",
       "Cycle_Time                            0.999809              0.999827   \n",
       "Clamp_Close_Time                      0.996210              0.997489   \n",
       "Cushion_Position                      0.999434              0.999828   \n",
       "Switch_Over_Position                       NaN                   NaN   \n",
       "Plasticizing_Position                -0.883350             -0.875543   \n",
       "Clamp_Open_Position                  -0.988172             -0.985531   \n",
       "Max_Injection_Speed                   0.992940              0.990892   \n",
       "Max_Screw_RPM                         0.998966              0.999262   \n",
       "Average_Screw_RPM                    -0.251442             -0.267323   \n",
       "Max_Injection_Pressure                0.998814              0.999414   \n",
       "Max_Switch_Over_Pressure              0.419337              0.434114   \n",
       "Max_Back_Pressure                     0.998715              0.997972   \n",
       "Average_Back_Pressure                 0.994763              0.996062   \n",
       "Barrel_Temperature_1                  0.999855              0.999696   \n",
       "Barrel_Temperature_2                  0.999814              0.999733   \n",
       "Barrel_Temperature_3                  0.999879              0.999856   \n",
       "Barrel_Temperature_4                  0.999385              0.999593   \n",
       "Barrel_Temperature_5                  1.000000              0.999740   \n",
       "Barrel_Temperature_6                  0.999740              1.000000   \n",
       "Barrel_Temperature_7                       NaN                   NaN   \n",
       "Hopper_Temperature                    0.981246              0.980199   \n",
       "Mold_Temperature_3                    0.772232              0.775290   \n",
       "Mold_Temperature_4                    0.377700              0.386495   \n",
       "\n",
       "                          Barrel_Temperature_7  Hopper_Temperature  \\\n",
       "Injection_Time                             NaN           -0.978135   \n",
       "Filling_Time                               NaN           -0.977289   \n",
       "Plasticizing_Time                          NaN           -0.872558   \n",
       "Cycle_Time                                 NaN            0.980857   \n",
       "Clamp_Close_Time                           NaN            0.972736   \n",
       "Cushion_Position                           NaN            0.978951   \n",
       "Switch_Over_Position                       NaN                 NaN   \n",
       "Plasticizing_Position                      NaN           -0.895026   \n",
       "Clamp_Open_Position                        NaN           -0.978860   \n",
       "Max_Injection_Speed                        NaN            0.981019   \n",
       "Max_Screw_RPM                              NaN            0.977135   \n",
       "Average_Screw_RPM                          NaN           -0.189451   \n",
       "Max_Injection_Pressure                     NaN            0.976695   \n",
       "Max_Switch_Over_Pressure                   NaN            0.349472   \n",
       "Max_Back_Pressure                          NaN            0.981143   \n",
       "Average_Back_Pressure                      NaN            0.967619   \n",
       "Barrel_Temperature_1                       NaN            0.981642   \n",
       "Barrel_Temperature_2                       NaN            0.980401   \n",
       "Barrel_Temperature_3                       NaN            0.981197   \n",
       "Barrel_Temperature_4                       NaN            0.979782   \n",
       "Barrel_Temperature_5                       NaN            0.981246   \n",
       "Barrel_Temperature_6                       NaN            0.980199   \n",
       "Barrel_Temperature_7                       NaN                 NaN   \n",
       "Hopper_Temperature                         NaN            1.000000   \n",
       "Mold_Temperature_3                         NaN            0.755928   \n",
       "Mold_Temperature_4                         NaN            0.333094   \n",
       "\n",
       "                          Mold_Temperature_3  Mold_Temperature_4  \n",
       "Injection_Time                     -0.718491           -0.268426  \n",
       "Filling_Time                       -0.715588           -0.263337  \n",
       "Plasticizing_Time                  -0.533668           -0.004123  \n",
       "Cycle_Time                          0.770991            0.378979  \n",
       "Clamp_Close_Time                    0.787620            0.425567  \n",
       "Cushion_Position                    0.777781            0.394850  \n",
       "Switch_Over_Position                     NaN                 NaN  \n",
       "Plasticizing_Position              -0.556880           -0.030037  \n",
       "Clamp_Open_Position                -0.720654           -0.272347  \n",
       "Max_Injection_Speed                 0.734356            0.298058  \n",
       "Max_Screw_RPM                       0.779141            0.395683  \n",
       "Average_Screw_RPM                  -0.449735           -0.717438  \n",
       "Max_Injection_Pressure              0.781583            0.405496  \n",
       "Max_Switch_Over_Pressure            0.567960            0.752753  \n",
       "Max_Back_Pressure                   0.758178            0.350366  \n",
       "Average_Back_Pressure               0.790140            0.433393  \n",
       "Barrel_Temperature_1                0.771113            0.377278  \n",
       "Barrel_Temperature_2                0.769959            0.375909  \n",
       "Barrel_Temperature_3                0.771496            0.378672  \n",
       "Barrel_Temperature_4                0.770625            0.381163  \n",
       "Barrel_Temperature_5                0.772232            0.377700  \n",
       "Barrel_Temperature_6                0.775290            0.386495  \n",
       "Barrel_Temperature_7                     NaN                 NaN  \n",
       "Hopper_Temperature                  0.755928            0.333094  \n",
       "Mold_Temperature_3                  1.000000            0.835177  \n",
       "Mold_Temperature_4                  0.835177            1.000000  \n",
       "\n",
       "[26 rows x 26 columns]"
      ]
     },
     "execution_count": 144,
     "metadata": {},
     "output_type": "execute_result"
    }
   ],
   "source": [
    "type1_X_corr"
   ]
  },
  {
   "cell_type": "markdown",
   "metadata": {
    "pycharm": {
     "name": "#%% md\n"
    }
   },
   "source": [
    "### X-y 관계확인을 위한 shap value 할당"
   ]
  },
  {
   "cell_type": "code",
   "execution_count": 145,
   "metadata": {
    "collapsed": false,
    "jupyter": {
     "outputs_hidden": false
    },
    "pycharm": {
     "name": "#%%\n"
    }
   },
   "outputs": [],
   "source": [
    "def assign_shap_value(corr_data, shap_table):\n",
    "    corr_data['PassOrFail'] = np.zeros(len(corr_data))\n",
    "    shap_factors = shap_table.index\n",
    "    shap_values = shap_table.values\n",
    "    for factor in shap_factors:\n",
    "        corr_data.loc[factor, 'PassOrFail'] = shap_table[factor]\n",
    "    add_row = np.concatenate([corr_data['PassOrFail'].values, np.zeros(1)])\n",
    "\n",
    "    corr_data.loc['PassOrFail'] = add_row\n",
    "    return corr_data"
   ]
  },
  {
   "cell_type": "code",
   "execution_count": 149,
   "metadata": {
    "collapsed": false,
    "jupyter": {
     "outputs_hidden": false
    },
    "pycharm": {
     "name": "#%%\n"
    }
   },
   "outputs": [],
   "source": [
    "type1_relations = assign_shap_value(type1_X_corr, type_1_factor)\n",
    "type2_relations = assign_shap_value(type2_X_corr, type_2_factor)\n",
    "type3_relations = assign_shap_value(type3_X_corr, type_3_factor)\n",
    "\n"
   ]
  },
  {
   "cell_type": "markdown",
   "metadata": {
    "pycharm": {
     "name": "#%% md\n"
    }
   },
   "source": [
    "## [ 근본인자 시각화를 위한 Sankey Chart ]"
   ]
  },
  {
   "cell_type": "code",
   "execution_count": null,
   "metadata": {
    "collapsed": false,
    "jupyter": {
     "outputs_hidden": false
    },
    "pycharm": {
     "name": "#%%\n"
    }
   },
   "outputs": [],
   "source": [
    "### 함수 정의"
   ]
  },
  {
   "cell_type": "code",
   "execution_count": 153,
   "metadata": {
    "collapsed": false,
    "jupyter": {
     "outputs_hidden": false
    },
    "pycharm": {
     "name": "#%%\n"
    }
   },
   "outputs": [],
   "source": [
    "def make_feature_dictionary(feat_total_list: list) -> dict:\n",
    "    feat_dictionary = {feat: index for index, feat in enumerate(feat_total_list)}\n",
    "    return feat_dictionary\n",
    "\n",
    "def make_source_target_table(data: pd.DataFrame, feat_dict: dict, pre_feats: list, next_feats: list) -> pd.DataFrame:\n",
    "    selected_df = data.loc[pre_feats, next_feats]\n",
    "    if not selected_df.empty:\n",
    "        src_tg_table = selected_df.stack().reset_index()\n",
    "        src_tg_table.columns = ['source', 'target', 'value']\n",
    "        src_tg_table['source_i'] = src_tg_table['source'].apply(lambda x : feat_dict[x])\n",
    "        src_tg_table['target_i'] = src_tg_table['target'].apply(lambda x: feat_dict[x])\n",
    "    else:\n",
    "        src_tg_table = pd.DataFrame(columns = ['source', 'target', 'value'])\n",
    "    return src_tg_table\n",
    "\n",
    "\n",
    "def get_features_match_over_limit(pre_data: pd.DataFrame, match_data: pd.DataFrame, limit: float) -> list:\n",
    "    match_cols = match_data.index\n",
    "    selected_feats = [i for i, v in pre_data.iterrows() if any(abs(v[match_cols]) > limit)]\n",
    "    return selected_feats\n",
    "\n",
    "\n",
    "def make_chart_data(data: pd.DataFrame, y_corr_min:float, between_step_corr_min: float)\\\n",
    "    -> (pd.DataFrame, dict):\n",
    "    # between_step_corr_min = 0.7\n",
    "    # y_corr_min = 0.07\n",
    "\n",
    "    y_df = data.loc[y_col, :]\n",
    "    step_1 = data.loc[step_1_cols, : ]\n",
    "    step_from_1 = data.loc[step_from_1_cols, :]\n",
    "    step_2 = data.loc[step_2_cols, :]\n",
    "    step_3 = data.loc[step_3_cols, :]\n",
    "    step_from_3 = data.loc[step_from_3_cols, :]\n",
    "    step_4 = data.loc[step_4_cols, :]\n",
    "    step_5 = data.loc[step_5_cols, :]\n",
    "    step_6 = data.loc[step_6_cols, :]\n",
    "    data_for_X_realtion = [step_1, step_2, step_3, step_4, step_5, step_6]\n",
    "    data_for_y_realtion = [step_1, step_2, step_3, step_4, step_5, step_6, step_from_1, step_from_3]\n",
    "\n",
    "    feat_dict = make_feature_dictionary(total_cols)\n",
    "\n",
    "\n",
    "    total_step = 6\n",
    "    feats = {}\n",
    "    for i, x_comp in enumerate(data_for_X_realtion):\n",
    "        if i+1 < len(data_for_X_realtion):\n",
    "            selected_feat = get_features_match_over_limit(x_comp, data_for_X_realtion[i+1],\n",
    "                                                          between_step_corr_min)\n",
    "            feats[i+1] = selected_feat\n",
    "\n",
    "\n",
    "    between_y_feats = {}\n",
    "    for i, y_comp in enumerate(data_for_y_realtion):\n",
    "        selected_feat = get_features_match_over_limit(y_comp, y_df, y_corr_min)\n",
    "        between_y_feats[i] = selected_feat\n",
    "\n",
    "    # X간 관계 테이블\n",
    "    src_tg_table = pd.DataFrame()\n",
    "\n",
    "    for step, feat in feats.items():\n",
    "        if feats and step+1 < len(feats.keys()):\n",
    "            table = make_source_target_table(data_for_X_realtion[step], feat_dict, feats[step+1], feats[step + 2])\n",
    "            src_tg_table = pd.concat([src_tg_table, table], ignore_index=True)\n",
    "\n",
    "    # y간 관계 테이블\n",
    "    for i, y_comp in enumerate(data_for_y_realtion):\n",
    "        if between_y_feats[i]:\n",
    "            table = make_source_target_table(y_comp, feat_dict, between_y_feats[i], y_col)\n",
    "            src_tg_table = pd.concat([src_tg_table, table], ignore_index=True)\n",
    "\n",
    "    return src_tg_table, feat_dict\n",
    "\n",
    "\n",
    "\n",
    "def show_causation_chart(data, y_relation_abs_min=0.07,\n",
    "                                      between_step_corr_min=0.8):\n",
    "    src_tg_table, feat_dict = make_chart_data(data, y_relation_abs_min, between_step_corr_min)\n",
    "\n",
    "    labels = list(feat_dict.keys())\n",
    "    source = src_tg_table['source_i'].values.tolist()\n",
    "    target = src_tg_table['target_i'].values.tolist()\n",
    "    value_org = [f'real value : {round(v, 3)}' for v in src_tg_table['value'].values.tolist()]\n",
    "    value = [abs(v)*100 for v in src_tg_table['value'].values]\n",
    "\n",
    "    fig = go.FigureWidget(\n",
    "        data=[go.Sankey(\n",
    "            node=dict(\n",
    "                pad=10,\n",
    "                thickness=10,\n",
    "                line=dict(width=0.5),\n",
    "                label=labels,\n",
    "                #x=x_loc,\n",
    "                #y=y_loc\n",
    "            ),\n",
    "            link=dict(source=source,\n",
    "                      target=target,\n",
    "                      value=value,\n",
    "                      label=value_org,\n",
    "                      ),\n",
    "            valueformat='.3r'\n",
    "        )],\n",
    "        layout=go.Layout(\n",
    "            height=1000,\n",
    "            margin=go.layout.Margin(\n",
    "                l=10,  # left margin\n",
    "                r=10,  # right margin\n",
    "                b=100,  # bottom margin\n",
    "                t=10,  # top margin\n",
    "            )\n",
    "        )\n",
    "    )\n",
    "\n",
    "    # notebook show\n",
    "    py.iplot(fig)"
   ]
  },
  {
   "cell_type": "markdown",
   "metadata": {
    "pycharm": {
     "name": "#%% md\n"
    }
   },
   "source": [
    "차트 생성"
   ]
  },
  {
   "cell_type": "markdown",
   "metadata": {
    "pycharm": {
     "name": "#%% md\n"
    }
   },
   "source": [
    "Type1"
   ]
  },
  {
   "cell_type": "code",
   "execution_count": 154,
   "metadata": {
    "collapsed": false,
    "jupyter": {
     "outputs_hidden": false
    },
    "pycharm": {
     "name": "#%%\n"
    }
   },
   "outputs": [
    {
     "data": {
      "application/vnd.plotly.v1+json": {
       "config": {
        "linkText": "Export to plot.ly",
        "plotlyServerURL": "https://plot.ly",
        "showLink": false
       },
       "data": [
        {
         "link": {
          "label": [
           "real value : -0.97",
           "real value : -0.968",
           "real value : 0.98",
           "real value : -0.982",
           "real value : 0.946",
           "real value : -0.98",
           "real value : 0.948",
           "real value : 0.989",
           "real value : -0.931",
           "real value : 0.997",
           "real value : 0.997",
           "real value : -0.901",
           "real value : -0.842",
           "real value : 0.009",
           "real value : 0.004",
           "real value : 0.011",
           "real value : 0.007",
           "real value : 0.007",
           "real value : 0.032",
           "real value : 0.069",
           "real value : 0.003",
           "real value : 0.004",
           "real value : 0.127"
          ],
          "source": [
           13,
           13,
           13,
           14,
           14,
           15,
           15,
           16,
           16,
           20,
           20,
           22,
           22,
           3,
           4,
           14,
           15,
           20,
           24,
           26,
           7,
           17,
           18
          ],
          "target": [
           14,
           15,
           16,
           20,
           22,
           20,
           22,
           20,
           22,
           24,
           25,
           24,
           25,
           0,
           0,
           0,
           0,
           0,
           0,
           0,
           0,
           0,
           0
          ],
          "value": [
           97.01240199861226,
           96.8397289245799,
           97.95103917734403,
           98.18373681636835,
           94.64669540119486,
           98.04512214060559,
           94.83772145578286,
           98.89103791508083,
           93.1120233001324,
           99.7023184081088,
           99.68879566924642,
           90.13318974666194,
           84.15652449065186,
           0.9298729282235003,
           0.4161871038539792,
           1.0504131659063558,
           0.6598631726745136,
           0.6619589860577878,
           3.1705294752694986,
           6.946475491505955,
           0.32400267794853355,
           0.40843817833345947,
           12.728369368124104
          ]
         },
         "node": {
          "label": [
           "PassOrFail",
           "Plasticizing_Time",
           "Hopper_Temperature",
           "Mold_Temperature_3",
           "Mold_Temperature_4",
           "Cycle_Time",
           "Barrel_Temperature_1",
           "Barrel_Temperature_2",
           "Barrel_Temperature_3",
           "Barrel_Temperature_4",
           "Barrel_Temperature_5",
           "Barrel_Temperature_6",
           "Barrel_Temperature_7",
           "Clamp_Close_Time",
           "Injection_Time",
           "Filling_Time",
           "Max_Injection_Speed",
           "Max_Screw_RPM",
           "Average_Screw_RPM",
           "Max_Injection_Pressure",
           "Cushion_Position",
           "Switch_Over_Position",
           "Plasticizing_Position",
           "Max_Switch_Over_Pressure",
           "Max_Back_Pressure",
           "Average_Back_Pressure",
           "Clamp_Open_Position"
          ],
          "line": {
           "width": 0.5
          },
          "pad": 10,
          "thickness": 10,
          "x": [
           0.9958779884583677,
           0.004122011541632316,
           0.004122011541632316,
           0.004122011541632316,
           0.004122011541632316,
           0.25206100577081614,
           0.25206100577081614,
           0.25206100577081614,
           0.004122011541632316,
           0.004122011541632316,
           0.5,
           0.5,
           0.7479389942291839,
           0.9958779884583677,
           0.004122011541632316
          ],
          "y": [
           0.7862268795276566,
           0.851324567902883,
           0.8636959657068364,
           0.8755562934504858,
           0.5374947753507527,
           0.1635444144962125,
           0.5015839682963017,
           0.8380395538000883,
           0.8874100847387948,
           0.8056123848041286,
           0.2630639421293462,
           0.7616212718033186,
           0.5835729610036049,
           0.49128216431857546,
           0.8334446723990273
          ]
         },
         "type": "sankey",
         "uid": "e29f9b2f-d81f-44b5-8058-aaa505f746c8",
         "valueformat": ".3r"
        }
       ],
       "layout": {
        "autosize": true,
        "margin": {
         "b": 100,
         "l": 10,
         "r": 10,
         "t": 10
        },
        "template": {
         "data": {
          "bar": [
           {
            "error_x": {
             "color": "#2a3f5f"
            },
            "error_y": {
             "color": "#2a3f5f"
            },
            "marker": {
             "line": {
              "color": "#E5ECF6",
              "width": 0.5
             },
             "pattern": {
              "fillmode": "overlay",
              "size": 10,
              "solidity": 0.2
             }
            },
            "type": "bar"
           }
          ],
          "barpolar": [
           {
            "marker": {
             "line": {
              "color": "#E5ECF6",
              "width": 0.5
             },
             "pattern": {
              "fillmode": "overlay",
              "size": 10,
              "solidity": 0.2
             }
            },
            "type": "barpolar"
           }
          ],
          "carpet": [
           {
            "aaxis": {
             "endlinecolor": "#2a3f5f",
             "gridcolor": "white",
             "linecolor": "white",
             "minorgridcolor": "white",
             "startlinecolor": "#2a3f5f"
            },
            "baxis": {
             "endlinecolor": "#2a3f5f",
             "gridcolor": "white",
             "linecolor": "white",
             "minorgridcolor": "white",
             "startlinecolor": "#2a3f5f"
            },
            "type": "carpet"
           }
          ],
          "choropleth": [
           {
            "colorbar": {
             "outlinewidth": 0,
             "ticks": ""
            },
            "type": "choropleth"
           }
          ],
          "contour": [
           {
            "colorbar": {
             "outlinewidth": 0,
             "ticks": ""
            },
            "colorscale": [
             [
              0,
              "#0d0887"
             ],
             [
              0.1111111111111111,
              "#46039f"
             ],
             [
              0.2222222222222222,
              "#7201a8"
             ],
             [
              0.3333333333333333,
              "#9c179e"
             ],
             [
              0.4444444444444444,
              "#bd3786"
             ],
             [
              0.5555555555555556,
              "#d8576b"
             ],
             [
              0.6666666666666666,
              "#ed7953"
             ],
             [
              0.7777777777777778,
              "#fb9f3a"
             ],
             [
              0.8888888888888888,
              "#fdca26"
             ],
             [
              1,
              "#f0f921"
             ]
            ],
            "type": "contour"
           }
          ],
          "contourcarpet": [
           {
            "colorbar": {
             "outlinewidth": 0,
             "ticks": ""
            },
            "type": "contourcarpet"
           }
          ],
          "heatmap": [
           {
            "colorbar": {
             "outlinewidth": 0,
             "ticks": ""
            },
            "colorscale": [
             [
              0,
              "#0d0887"
             ],
             [
              0.1111111111111111,
              "#46039f"
             ],
             [
              0.2222222222222222,
              "#7201a8"
             ],
             [
              0.3333333333333333,
              "#9c179e"
             ],
             [
              0.4444444444444444,
              "#bd3786"
             ],
             [
              0.5555555555555556,
              "#d8576b"
             ],
             [
              0.6666666666666666,
              "#ed7953"
             ],
             [
              0.7777777777777778,
              "#fb9f3a"
             ],
             [
              0.8888888888888888,
              "#fdca26"
             ],
             [
              1,
              "#f0f921"
             ]
            ],
            "type": "heatmap"
           }
          ],
          "heatmapgl": [
           {
            "colorbar": {
             "outlinewidth": 0,
             "ticks": ""
            },
            "colorscale": [
             [
              0,
              "#0d0887"
             ],
             [
              0.1111111111111111,
              "#46039f"
             ],
             [
              0.2222222222222222,
              "#7201a8"
             ],
             [
              0.3333333333333333,
              "#9c179e"
             ],
             [
              0.4444444444444444,
              "#bd3786"
             ],
             [
              0.5555555555555556,
              "#d8576b"
             ],
             [
              0.6666666666666666,
              "#ed7953"
             ],
             [
              0.7777777777777778,
              "#fb9f3a"
             ],
             [
              0.8888888888888888,
              "#fdca26"
             ],
             [
              1,
              "#f0f921"
             ]
            ],
            "type": "heatmapgl"
           }
          ],
          "histogram": [
           {
            "marker": {
             "pattern": {
              "fillmode": "overlay",
              "size": 10,
              "solidity": 0.2
             }
            },
            "type": "histogram"
           }
          ],
          "histogram2d": [
           {
            "colorbar": {
             "outlinewidth": 0,
             "ticks": ""
            },
            "colorscale": [
             [
              0,
              "#0d0887"
             ],
             [
              0.1111111111111111,
              "#46039f"
             ],
             [
              0.2222222222222222,
              "#7201a8"
             ],
             [
              0.3333333333333333,
              "#9c179e"
             ],
             [
              0.4444444444444444,
              "#bd3786"
             ],
             [
              0.5555555555555556,
              "#d8576b"
             ],
             [
              0.6666666666666666,
              "#ed7953"
             ],
             [
              0.7777777777777778,
              "#fb9f3a"
             ],
             [
              0.8888888888888888,
              "#fdca26"
             ],
             [
              1,
              "#f0f921"
             ]
            ],
            "type": "histogram2d"
           }
          ],
          "histogram2dcontour": [
           {
            "colorbar": {
             "outlinewidth": 0,
             "ticks": ""
            },
            "colorscale": [
             [
              0,
              "#0d0887"
             ],
             [
              0.1111111111111111,
              "#46039f"
             ],
             [
              0.2222222222222222,
              "#7201a8"
             ],
             [
              0.3333333333333333,
              "#9c179e"
             ],
             [
              0.4444444444444444,
              "#bd3786"
             ],
             [
              0.5555555555555556,
              "#d8576b"
             ],
             [
              0.6666666666666666,
              "#ed7953"
             ],
             [
              0.7777777777777778,
              "#fb9f3a"
             ],
             [
              0.8888888888888888,
              "#fdca26"
             ],
             [
              1,
              "#f0f921"
             ]
            ],
            "type": "histogram2dcontour"
           }
          ],
          "mesh3d": [
           {
            "colorbar": {
             "outlinewidth": 0,
             "ticks": ""
            },
            "type": "mesh3d"
           }
          ],
          "parcoords": [
           {
            "line": {
             "colorbar": {
              "outlinewidth": 0,
              "ticks": ""
             }
            },
            "type": "parcoords"
           }
          ],
          "pie": [
           {
            "automargin": true,
            "type": "pie"
           }
          ],
          "scatter": [
           {
            "marker": {
             "colorbar": {
              "outlinewidth": 0,
              "ticks": ""
             }
            },
            "type": "scatter"
           }
          ],
          "scatter3d": [
           {
            "line": {
             "colorbar": {
              "outlinewidth": 0,
              "ticks": ""
             }
            },
            "marker": {
             "colorbar": {
              "outlinewidth": 0,
              "ticks": ""
             }
            },
            "type": "scatter3d"
           }
          ],
          "scattercarpet": [
           {
            "marker": {
             "colorbar": {
              "outlinewidth": 0,
              "ticks": ""
             }
            },
            "type": "scattercarpet"
           }
          ],
          "scattergeo": [
           {
            "marker": {
             "colorbar": {
              "outlinewidth": 0,
              "ticks": ""
             }
            },
            "type": "scattergeo"
           }
          ],
          "scattergl": [
           {
            "marker": {
             "colorbar": {
              "outlinewidth": 0,
              "ticks": ""
             }
            },
            "type": "scattergl"
           }
          ],
          "scattermapbox": [
           {
            "marker": {
             "colorbar": {
              "outlinewidth": 0,
              "ticks": ""
             }
            },
            "type": "scattermapbox"
           }
          ],
          "scatterpolar": [
           {
            "marker": {
             "colorbar": {
              "outlinewidth": 0,
              "ticks": ""
             }
            },
            "type": "scatterpolar"
           }
          ],
          "scatterpolargl": [
           {
            "marker": {
             "colorbar": {
              "outlinewidth": 0,
              "ticks": ""
             }
            },
            "type": "scatterpolargl"
           }
          ],
          "scatterternary": [
           {
            "marker": {
             "colorbar": {
              "outlinewidth": 0,
              "ticks": ""
             }
            },
            "type": "scatterternary"
           }
          ],
          "surface": [
           {
            "colorbar": {
             "outlinewidth": 0,
             "ticks": ""
            },
            "colorscale": [
             [
              0,
              "#0d0887"
             ],
             [
              0.1111111111111111,
              "#46039f"
             ],
             [
              0.2222222222222222,
              "#7201a8"
             ],
             [
              0.3333333333333333,
              "#9c179e"
             ],
             [
              0.4444444444444444,
              "#bd3786"
             ],
             [
              0.5555555555555556,
              "#d8576b"
             ],
             [
              0.6666666666666666,
              "#ed7953"
             ],
             [
              0.7777777777777778,
              "#fb9f3a"
             ],
             [
              0.8888888888888888,
              "#fdca26"
             ],
             [
              1,
              "#f0f921"
             ]
            ],
            "type": "surface"
           }
          ],
          "table": [
           {
            "cells": {
             "fill": {
              "color": "#EBF0F8"
             },
             "line": {
              "color": "white"
             }
            },
            "header": {
             "fill": {
              "color": "#C8D4E3"
             },
             "line": {
              "color": "white"
             }
            },
            "type": "table"
           }
          ]
         },
         "layout": {
          "annotationdefaults": {
           "arrowcolor": "#2a3f5f",
           "arrowhead": 0,
           "arrowwidth": 1
          },
          "autotypenumbers": "strict",
          "coloraxis": {
           "colorbar": {
            "outlinewidth": 0,
            "ticks": ""
           }
          },
          "colorscale": {
           "diverging": [
            [
             0,
             "#8e0152"
            ],
            [
             0.1,
             "#c51b7d"
            ],
            [
             0.2,
             "#de77ae"
            ],
            [
             0.3,
             "#f1b6da"
            ],
            [
             0.4,
             "#fde0ef"
            ],
            [
             0.5,
             "#f7f7f7"
            ],
            [
             0.6,
             "#e6f5d0"
            ],
            [
             0.7,
             "#b8e186"
            ],
            [
             0.8,
             "#7fbc41"
            ],
            [
             0.9,
             "#4d9221"
            ],
            [
             1,
             "#276419"
            ]
           ],
           "sequential": [
            [
             0,
             "#0d0887"
            ],
            [
             0.1111111111111111,
             "#46039f"
            ],
            [
             0.2222222222222222,
             "#7201a8"
            ],
            [
             0.3333333333333333,
             "#9c179e"
            ],
            [
             0.4444444444444444,
             "#bd3786"
            ],
            [
             0.5555555555555556,
             "#d8576b"
            ],
            [
             0.6666666666666666,
             "#ed7953"
            ],
            [
             0.7777777777777778,
             "#fb9f3a"
            ],
            [
             0.8888888888888888,
             "#fdca26"
            ],
            [
             1,
             "#f0f921"
            ]
           ],
           "sequentialminus": [
            [
             0,
             "#0d0887"
            ],
            [
             0.1111111111111111,
             "#46039f"
            ],
            [
             0.2222222222222222,
             "#7201a8"
            ],
            [
             0.3333333333333333,
             "#9c179e"
            ],
            [
             0.4444444444444444,
             "#bd3786"
            ],
            [
             0.5555555555555556,
             "#d8576b"
            ],
            [
             0.6666666666666666,
             "#ed7953"
            ],
            [
             0.7777777777777778,
             "#fb9f3a"
            ],
            [
             0.8888888888888888,
             "#fdca26"
            ],
            [
             1,
             "#f0f921"
            ]
           ]
          },
          "colorway": [
           "#636efa",
           "#EF553B",
           "#00cc96",
           "#ab63fa",
           "#FFA15A",
           "#19d3f3",
           "#FF6692",
           "#B6E880",
           "#FF97FF",
           "#FECB52"
          ],
          "font": {
           "color": "#2a3f5f"
          },
          "geo": {
           "bgcolor": "white",
           "lakecolor": "white",
           "landcolor": "#E5ECF6",
           "showlakes": true,
           "showland": true,
           "subunitcolor": "white"
          },
          "hoverlabel": {
           "align": "left"
          },
          "hovermode": "closest",
          "mapbox": {
           "style": "light"
          },
          "paper_bgcolor": "white",
          "plot_bgcolor": "#E5ECF6",
          "polar": {
           "angularaxis": {
            "gridcolor": "white",
            "linecolor": "white",
            "ticks": ""
           },
           "bgcolor": "#E5ECF6",
           "radialaxis": {
            "gridcolor": "white",
            "linecolor": "white",
            "ticks": ""
           }
          },
          "scene": {
           "xaxis": {
            "backgroundcolor": "#E5ECF6",
            "gridcolor": "white",
            "gridwidth": 2,
            "linecolor": "white",
            "showbackground": true,
            "ticks": "",
            "zerolinecolor": "white"
           },
           "yaxis": {
            "backgroundcolor": "#E5ECF6",
            "gridcolor": "white",
            "gridwidth": 2,
            "linecolor": "white",
            "showbackground": true,
            "ticks": "",
            "zerolinecolor": "white"
           },
           "zaxis": {
            "backgroundcolor": "#E5ECF6",
            "gridcolor": "white",
            "gridwidth": 2,
            "linecolor": "white",
            "showbackground": true,
            "ticks": "",
            "zerolinecolor": "white"
           }
          },
          "shapedefaults": {
           "line": {
            "color": "#2a3f5f"
           }
          },
          "ternary": {
           "aaxis": {
            "gridcolor": "white",
            "linecolor": "white",
            "ticks": ""
           },
           "baxis": {
            "gridcolor": "white",
            "linecolor": "white",
            "ticks": ""
           },
           "bgcolor": "#E5ECF6",
           "caxis": {
            "gridcolor": "white",
            "linecolor": "white",
            "ticks": ""
           }
          },
          "title": {
           "x": 0.05
          },
          "xaxis": {
           "automargin": true,
           "gridcolor": "white",
           "linecolor": "white",
           "ticks": "",
           "title": {
            "standoff": 15
           },
           "zerolinecolor": "white",
           "zerolinewidth": 2
          },
          "yaxis": {
           "automargin": true,
           "gridcolor": "white",
           "linecolor": "white",
           "ticks": "",
           "title": {
            "standoff": 15
           },
           "zerolinecolor": "white",
           "zerolinewidth": 2
          }
         }
        }
       }
      },
      "image/png": "[encoded data removed]"
     },
     "metadata": {},
     "output_type": "display_data"
    }
   ],
   "source": [
    "y_shap_abs_min = 0.001\n",
    "between_step_corr_min = 0.8\n",
    "show_causation_chart(type1_relations, y_shap_abs_min, between_step_corr_min)\n"
   ]
  },
  {
   "cell_type": "markdown",
   "metadata": {},
   "source": [
    "Type2"
   ]
  },
  {
   "cell_type": "code",
   "execution_count": 155,
   "metadata": {
    "collapsed": false,
    "jupyter": {
     "outputs_hidden": false
    },
    "pycharm": {
     "name": "#%%\n"
    }
   },
   "outputs": [
    {
     "data": {
      "application/vnd.plotly.v1+json": {
       "config": {
        "linkText": "Export to plot.ly",
        "plotlyServerURL": "https://plot.ly",
        "showLink": false
       },
       "data": [
        {
         "link": {
          "label": [
           "real value : -0.004",
           "real value : -0.156",
           "real value : -0.01",
           "real value : -0.161",
           "real value : 0.248",
           "real value : 0.374",
           "real value : -0.945",
           "real value : -0.947",
           "real value : -0.886",
           "real value : -0.904",
           "real value : 0.01",
           "real value : 0.003",
           "real value : 0.008",
           "real value : 0.012",
           "real value : 0.003",
           "real value : 0.035",
           "real value : 0.004",
           "real value : 0.004",
           "real value : 0.002",
           "real value : 0.18"
          ],
          "source": [
           14,
           14,
           15,
           15,
           16,
           16,
           20,
           20,
           22,
           22,
           3,
           4,
           14,
           15,
           20,
           24,
           25,
           26,
           17,
           18
          ],
          "target": [
           20,
           22,
           20,
           22,
           20,
           22,
           24,
           25,
           24,
           25,
           0,
           0,
           0,
           0,
           0,
           0,
           0,
           0,
           0,
           0
          ],
          "value": [
           0.396871484618826,
           15.569724098113607,
           0.9961937823765954,
           16.137554520832648,
           24.806588151568207,
           37.36835689801574,
           94.53857212622945,
           94.66411107208586,
           88.58514482998072,
           90.4160267434478,
           0.9611890419164185,
           0.3464594752067191,
           0.8055383785459471,
           1.2232527034969303,
           0.3412246107862294,
           3.4855382887742343,
           0.3697520660850663,
           0.40470571744259953,
           0.1957942463976587,
           18.010406796476648
          ]
         },
         "node": {
          "label": [
           "PassOrFail",
           "Plasticizing_Time",
           "Hopper_Temperature",
           "Mold_Temperature_3",
           "Mold_Temperature_4",
           "Cycle_Time",
           "Barrel_Temperature_1",
           "Barrel_Temperature_2",
           "Barrel_Temperature_3",
           "Barrel_Temperature_4",
           "Barrel_Temperature_5",
           "Barrel_Temperature_6",
           "Barrel_Temperature_7",
           "Clamp_Close_Time",
           "Injection_Time",
           "Filling_Time",
           "Max_Injection_Speed",
           "Max_Screw_RPM",
           "Average_Screw_RPM",
           "Max_Injection_Pressure",
           "Cushion_Position",
           "Switch_Over_Position",
           "Plasticizing_Position",
           "Max_Switch_Over_Pressure",
           "Max_Back_Pressure",
           "Average_Back_Pressure",
           "Clamp_Open_Position"
          ],
          "line": {
           "width": 0.5
          },
          "pad": 10,
          "thickness": 10
         },
         "type": "sankey",
         "uid": "75cd5e03-89e3-4755-886d-f613587ef3b3",
         "valueformat": ".3r"
        }
       ],
       "layout": {
        "autosize": true,
        "margin": {
         "b": 100,
         "l": 10,
         "r": 10,
         "t": 10
        },
        "template": {
         "data": {
          "bar": [
           {
            "error_x": {
             "color": "#2a3f5f"
            },
            "error_y": {
             "color": "#2a3f5f"
            },
            "marker": {
             "line": {
              "color": "#E5ECF6",
              "width": 0.5
             },
             "pattern": {
              "fillmode": "overlay",
              "size": 10,
              "solidity": 0.2
             }
            },
            "type": "bar"
           }
          ],
          "barpolar": [
           {
            "marker": {
             "line": {
              "color": "#E5ECF6",
              "width": 0.5
             },
             "pattern": {
              "fillmode": "overlay",
              "size": 10,
              "solidity": 0.2
             }
            },
            "type": "barpolar"
           }
          ],
          "carpet": [
           {
            "aaxis": {
             "endlinecolor": "#2a3f5f",
             "gridcolor": "white",
             "linecolor": "white",
             "minorgridcolor": "white",
             "startlinecolor": "#2a3f5f"
            },
            "baxis": {
             "endlinecolor": "#2a3f5f",
             "gridcolor": "white",
             "linecolor": "white",
             "minorgridcolor": "white",
             "startlinecolor": "#2a3f5f"
            },
            "type": "carpet"
           }
          ],
          "choropleth": [
           {
            "colorbar": {
             "outlinewidth": 0,
             "ticks": ""
            },
            "type": "choropleth"
           }
          ],
          "contour": [
           {
            "colorbar": {
             "outlinewidth": 0,
             "ticks": ""
            },
            "colorscale": [
             [
              0,
              "#0d0887"
             ],
             [
              0.1111111111111111,
              "#46039f"
             ],
             [
              0.2222222222222222,
              "#7201a8"
             ],
             [
              0.3333333333333333,
              "#9c179e"
             ],
             [
              0.4444444444444444,
              "#bd3786"
             ],
             [
              0.5555555555555556,
              "#d8576b"
             ],
             [
              0.6666666666666666,
              "#ed7953"
             ],
             [
              0.7777777777777778,
              "#fb9f3a"
             ],
             [
              0.8888888888888888,
              "#fdca26"
             ],
             [
              1,
              "#f0f921"
             ]
            ],
            "type": "contour"
           }
          ],
          "contourcarpet": [
           {
            "colorbar": {
             "outlinewidth": 0,
             "ticks": ""
            },
            "type": "contourcarpet"
           }
          ],
          "heatmap": [
           {
            "colorbar": {
             "outlinewidth": 0,
             "ticks": ""
            },
            "colorscale": [
             [
              0,
              "#0d0887"
             ],
             [
              0.1111111111111111,
              "#46039f"
             ],
             [
              0.2222222222222222,
              "#7201a8"
             ],
             [
              0.3333333333333333,
              "#9c179e"
             ],
             [
              0.4444444444444444,
              "#bd3786"
             ],
             [
              0.5555555555555556,
              "#d8576b"
             ],
             [
              0.6666666666666666,
              "#ed7953"
             ],
             [
              0.7777777777777778,
              "#fb9f3a"
             ],
             [
              0.8888888888888888,
              "#fdca26"
             ],
             [
              1,
              "#f0f921"
             ]
            ],
            "type": "heatmap"
           }
          ],
          "heatmapgl": [
           {
            "colorbar": {
             "outlinewidth": 0,
             "ticks": ""
            },
            "colorscale": [
             [
              0,
              "#0d0887"
             ],
             [
              0.1111111111111111,
              "#46039f"
             ],
             [
              0.2222222222222222,
              "#7201a8"
             ],
             [
              0.3333333333333333,
              "#9c179e"
             ],
             [
              0.4444444444444444,
              "#bd3786"
             ],
             [
              0.5555555555555556,
              "#d8576b"
             ],
             [
              0.6666666666666666,
              "#ed7953"
             ],
             [
              0.7777777777777778,
              "#fb9f3a"
             ],
             [
              0.8888888888888888,
              "#fdca26"
             ],
             [
              1,
              "#f0f921"
             ]
            ],
            "type": "heatmapgl"
           }
          ],
          "histogram": [
           {
            "marker": {
             "pattern": {
              "fillmode": "overlay",
              "size": 10,
              "solidity": 0.2
             }
            },
            "type": "histogram"
           }
          ],
          "histogram2d": [
           {
            "colorbar": {
             "outlinewidth": 0,
             "ticks": ""
            },
            "colorscale": [
             [
              0,
              "#0d0887"
             ],
             [
              0.1111111111111111,
              "#46039f"
             ],
             [
              0.2222222222222222,
              "#7201a8"
             ],
             [
              0.3333333333333333,
              "#9c179e"
             ],
             [
              0.4444444444444444,
              "#bd3786"
             ],
             [
              0.5555555555555556,
              "#d8576b"
             ],
             [
              0.6666666666666666,
              "#ed7953"
             ],
             [
              0.7777777777777778,
              "#fb9f3a"
             ],
             [
              0.8888888888888888,
              "#fdca26"
             ],
             [
              1,
              "#f0f921"
             ]
            ],
            "type": "histogram2d"
           }
          ],
          "histogram2dcontour": [
           {
            "colorbar": {
             "outlinewidth": 0,
             "ticks": ""
            },
            "colorscale": [
             [
              0,
              "#0d0887"
             ],
             [
              0.1111111111111111,
              "#46039f"
             ],
             [
              0.2222222222222222,
              "#7201a8"
             ],
             [
              0.3333333333333333,
              "#9c179e"
             ],
             [
              0.4444444444444444,
              "#bd3786"
             ],
             [
              0.5555555555555556,
              "#d8576b"
             ],
             [
              0.6666666666666666,
              "#ed7953"
             ],
             [
              0.7777777777777778,
              "#fb9f3a"
             ],
             [
              0.8888888888888888,
              "#fdca26"
             ],
             [
              1,
              "#f0f921"
             ]
            ],
            "type": "histogram2dcontour"
           }
          ],
          "mesh3d": [
           {
            "colorbar": {
             "outlinewidth": 0,
             "ticks": ""
            },
            "type": "mesh3d"
           }
          ],
          "parcoords": [
           {
            "line": {
             "colorbar": {
              "outlinewidth": 0,
              "ticks": ""
             }
            },
            "type": "parcoords"
           }
          ],
          "pie": [
           {
            "automargin": true,
            "type": "pie"
           }
          ],
          "scatter": [
           {
            "marker": {
             "colorbar": {
              "outlinewidth": 0,
              "ticks": ""
             }
            },
            "type": "scatter"
           }
          ],
          "scatter3d": [
           {
            "line": {
             "colorbar": {
              "outlinewidth": 0,
              "ticks": ""
             }
            },
            "marker": {
             "colorbar": {
              "outlinewidth": 0,
              "ticks": ""
             }
            },
            "type": "scatter3d"
           }
          ],
          "scattercarpet": [
           {
            "marker": {
             "colorbar": {
              "outlinewidth": 0,
              "ticks": ""
             }
            },
            "type": "scattercarpet"
           }
          ],
          "scattergeo": [
           {
            "marker": {
             "colorbar": {
              "outlinewidth": 0,
              "ticks": ""
             }
            },
            "type": "scattergeo"
           }
          ],
          "scattergl": [
           {
            "marker": {
             "colorbar": {
              "outlinewidth": 0,
              "ticks": ""
             }
            },
            "type": "scattergl"
           }
          ],
          "scattermapbox": [
           {
            "marker": {
             "colorbar": {
              "outlinewidth": 0,
              "ticks": ""
             }
            },
            "type": "scattermapbox"
           }
          ],
          "scatterpolar": [
           {
            "marker": {
             "colorbar": {
              "outlinewidth": 0,
              "ticks": ""
             }
            },
            "type": "scatterpolar"
           }
          ],
          "scatterpolargl": [
           {
            "marker": {
             "colorbar": {
              "outlinewidth": 0,
              "ticks": ""
             }
            },
            "type": "scatterpolargl"
           }
          ],
          "scatterternary": [
           {
            "marker": {
             "colorbar": {
              "outlinewidth": 0,
              "ticks": ""
             }
            },
            "type": "scatterternary"
           }
          ],
          "surface": [
           {
            "colorbar": {
             "outlinewidth": 0,
             "ticks": ""
            },
            "colorscale": [
             [
              0,
              "#0d0887"
             ],
             [
              0.1111111111111111,
              "#46039f"
             ],
             [
              0.2222222222222222,
              "#7201a8"
             ],
             [
              0.3333333333333333,
              "#9c179e"
             ],
             [
              0.4444444444444444,
              "#bd3786"
             ],
             [
              0.5555555555555556,
              "#d8576b"
             ],
             [
              0.6666666666666666,
              "#ed7953"
             ],
             [
              0.7777777777777778,
              "#fb9f3a"
             ],
             [
              0.8888888888888888,
              "#fdca26"
             ],
             [
              1,
              "#f0f921"
             ]
            ],
            "type": "surface"
           }
          ],
          "table": [
           {
            "cells": {
             "fill": {
              "color": "#EBF0F8"
             },
             "line": {
              "color": "white"
             }
            },
            "header": {
             "fill": {
              "color": "#C8D4E3"
             },
             "line": {
              "color": "white"
             }
            },
            "type": "table"
           }
          ]
         },
         "layout": {
          "annotationdefaults": {
           "arrowcolor": "#2a3f5f",
           "arrowhead": 0,
           "arrowwidth": 1
          },
          "autotypenumbers": "strict",
          "coloraxis": {
           "colorbar": {
            "outlinewidth": 0,
            "ticks": ""
           }
          },
          "colorscale": {
           "diverging": [
            [
             0,
             "#8e0152"
            ],
            [
             0.1,
             "#c51b7d"
            ],
            [
             0.2,
             "#de77ae"
            ],
            [
             0.3,
             "#f1b6da"
            ],
            [
             0.4,
             "#fde0ef"
            ],
            [
             0.5,
             "#f7f7f7"
            ],
            [
             0.6,
             "#e6f5d0"
            ],
            [
             0.7,
             "#b8e186"
            ],
            [
             0.8,
             "#7fbc41"
            ],
            [
             0.9,
             "#4d9221"
            ],
            [
             1,
             "#276419"
            ]
           ],
           "sequential": [
            [
             0,
             "#0d0887"
            ],
            [
             0.1111111111111111,
             "#46039f"
            ],
            [
             0.2222222222222222,
             "#7201a8"
            ],
            [
             0.3333333333333333,
             "#9c179e"
            ],
            [
             0.4444444444444444,
             "#bd3786"
            ],
            [
             0.5555555555555556,
             "#d8576b"
            ],
            [
             0.6666666666666666,
             "#ed7953"
            ],
            [
             0.7777777777777778,
             "#fb9f3a"
            ],
            [
             0.8888888888888888,
             "#fdca26"
            ],
            [
             1,
             "#f0f921"
            ]
           ],
           "sequentialminus": [
            [
             0,
             "#0d0887"
            ],
            [
             0.1111111111111111,
             "#46039f"
            ],
            [
             0.2222222222222222,
             "#7201a8"
            ],
            [
             0.3333333333333333,
             "#9c179e"
            ],
            [
             0.4444444444444444,
             "#bd3786"
            ],
            [
             0.5555555555555556,
             "#d8576b"
            ],
            [
             0.6666666666666666,
             "#ed7953"
            ],
            [
             0.7777777777777778,
             "#fb9f3a"
            ],
            [
             0.8888888888888888,
             "#fdca26"
            ],
            [
             1,
             "#f0f921"
            ]
           ]
          },
          "colorway": [
           "#636efa",
           "#EF553B",
           "#00cc96",
           "#ab63fa",
           "#FFA15A",
           "#19d3f3",
           "#FF6692",
           "#B6E880",
           "#FF97FF",
           "#FECB52"
          ],
          "font": {
           "color": "#2a3f5f"
          },
          "geo": {
           "bgcolor": "white",
           "lakecolor": "white",
           "landcolor": "#E5ECF6",
           "showlakes": true,
           "showland": true,
           "subunitcolor": "white"
          },
          "hoverlabel": {
           "align": "left"
          },
          "hovermode": "closest",
          "mapbox": {
           "style": "light"
          },
          "paper_bgcolor": "white",
          "plot_bgcolor": "#E5ECF6",
          "polar": {
           "angularaxis": {
            "gridcolor": "white",
            "linecolor": "white",
            "ticks": ""
           },
           "bgcolor": "#E5ECF6",
           "radialaxis": {
            "gridcolor": "white",
            "linecolor": "white",
            "ticks": ""
           }
          },
          "scene": {
           "xaxis": {
            "backgroundcolor": "#E5ECF6",
            "gridcolor": "white",
            "gridwidth": 2,
            "linecolor": "white",
            "showbackground": true,
            "ticks": "",
            "zerolinecolor": "white"
           },
           "yaxis": {
            "backgroundcolor": "#E5ECF6",
            "gridcolor": "white",
            "gridwidth": 2,
            "linecolor": "white",
            "showbackground": true,
            "ticks": "",
            "zerolinecolor": "white"
           },
           "zaxis": {
            "backgroundcolor": "#E5ECF6",
            "gridcolor": "white",
            "gridwidth": 2,
            "linecolor": "white",
            "showbackground": true,
            "ticks": "",
            "zerolinecolor": "white"
           }
          },
          "shapedefaults": {
           "line": {
            "color": "#2a3f5f"
           }
          },
          "ternary": {
           "aaxis": {
            "gridcolor": "white",
            "linecolor": "white",
            "ticks": ""
           },
           "baxis": {
            "gridcolor": "white",
            "linecolor": "white",
            "ticks": ""
           },
           "bgcolor": "#E5ECF6",
           "caxis": {
            "gridcolor": "white",
            "linecolor": "white",
            "ticks": ""
           }
          },
          "title": {
           "x": 0.05
          },
          "xaxis": {
           "automargin": true,
           "gridcolor": "white",
           "linecolor": "white",
           "ticks": "",
           "title": {
            "standoff": 15
           },
           "zerolinecolor": "white",
           "zerolinewidth": 2
          },
          "yaxis": {
           "automargin": true,
           "gridcolor": "white",
           "linecolor": "white",
           "ticks": "",
           "title": {
            "standoff": 15
           },
           "zerolinecolor": "white",
           "zerolinewidth": 2
          }
         }
        }
       }
      }
     },
     "metadata": {},
     "output_type": "display_data"
    }
   ],
   "source": [
    "y_shap_abs_min = 0.001\n",
    "between_step_corr_min = 0.8\n",
    "show_causation_chart(type2_relations, y_shap_abs_min, between_step_corr_min)\n"
   ]
  },
  {
   "cell_type": "markdown",
   "metadata": {
    "pycharm": {
     "name": "#%% md\n"
    }
   },
   "source": [
    "Type3"
   ]
  },
  {
   "cell_type": "code",
   "execution_count": 156,
   "metadata": {
    "collapsed": false,
    "jupyter": {
     "outputs_hidden": false
    },
    "pycharm": {
     "name": "#%%\n"
    }
   },
   "outputs": [
    {
     "data": {
      "application/vnd.plotly.v1+json": {
       "config": {
        "linkText": "Export to plot.ly",
        "plotlyServerURL": "https://plot.ly",
        "showLink": false
       },
       "data": [
        {
         "link": {
          "label": [
           "real value : -0.958",
           "real value : -0.953",
           "real value : 0.969",
           "real value : -0.974",
           "real value : 0.948",
           "real value : -0.971",
           "real value : 0.951",
           "real value : 0.983",
           "real value : -0.933",
           "real value : 0.996",
           "real value : 0.996",
           "real value : -0.891",
           "real value : -0.81",
           "real value : 0.008",
           "real value : 0.004",
           "real value : 0.011",
           "real value : 0.007",
           "real value : 0.003",
           "real value : 0.006",
           "real value : 0.033",
           "real value : 0.074",
           "real value : 0.004",
           "real value : 0.121"
          ],
          "source": [
           13,
           13,
           13,
           14,
           14,
           15,
           15,
           16,
           16,
           20,
           20,
           22,
           22,
           3,
           4,
           14,
           15,
           16,
           20,
           24,
           26,
           17,
           18
          ],
          "target": [
           14,
           15,
           16,
           20,
           22,
           20,
           22,
           20,
           22,
           24,
           25,
           24,
           25,
           0,
           0,
           0,
           0,
           0,
           0,
           0,
           0,
           0,
           0
          ],
          "value": [
           95.76180366131454,
           95.34800781321907,
           96.88049215313396,
           97.40888492600152,
           94.76672458255786,
           97.07350949745161,
           95.13543355082132,
           98.2552061217415,
           93.25485912438451,
           99.64700158596325,
           99.61984015721123,
           89.14695149473954,
           80.99066646004182,
           0.8275200610993898,
           0.3599609393223306,
           1.1213962350815576,
           0.7241309203964115,
           0.3208947517683727,
           0.6381862440541887,
           3.268357411740843,
           7.388443364591185,
           0.40077928816147507,
           12.078426960604837
          ]
         },
         "node": {
          "label": [
           "PassOrFail",
           "Plasticizing_Time",
           "Hopper_Temperature",
           "Mold_Temperature_3",
           "Mold_Temperature_4",
           "Cycle_Time",
           "Barrel_Temperature_1",
           "Barrel_Temperature_2",
           "Barrel_Temperature_3",
           "Barrel_Temperature_4",
           "Barrel_Temperature_5",
           "Barrel_Temperature_6",
           "Barrel_Temperature_7",
           "Clamp_Close_Time",
           "Injection_Time",
           "Filling_Time",
           "Max_Injection_Speed",
           "Max_Screw_RPM",
           "Average_Screw_RPM",
           "Max_Injection_Pressure",
           "Cushion_Position",
           "Switch_Over_Position",
           "Plasticizing_Position",
           "Max_Switch_Over_Pressure",
           "Max_Back_Pressure",
           "Average_Back_Pressure",
           "Clamp_Open_Position"
          ],
          "line": {
           "width": 0.5
          },
          "pad": 10,
          "thickness": 10
         },
         "type": "sankey",
         "uid": "333ff957-4b25-454b-b17b-14e703522f91",
         "valueformat": ".3r"
        }
       ],
       "layout": {
        "autosize": true,
        "margin": {
         "b": 100,
         "l": 10,
         "r": 10,
         "t": 10
        },
        "template": {
         "data": {
          "bar": [
           {
            "error_x": {
             "color": "#2a3f5f"
            },
            "error_y": {
             "color": "#2a3f5f"
            },
            "marker": {
             "line": {
              "color": "#E5ECF6",
              "width": 0.5
             },
             "pattern": {
              "fillmode": "overlay",
              "size": 10,
              "solidity": 0.2
             }
            },
            "type": "bar"
           }
          ],
          "barpolar": [
           {
            "marker": {
             "line": {
              "color": "#E5ECF6",
              "width": 0.5
             },
             "pattern": {
              "fillmode": "overlay",
              "size": 10,
              "solidity": 0.2
             }
            },
            "type": "barpolar"
           }
          ],
          "carpet": [
           {
            "aaxis": {
             "endlinecolor": "#2a3f5f",
             "gridcolor": "white",
             "linecolor": "white",
             "minorgridcolor": "white",
             "startlinecolor": "#2a3f5f"
            },
            "baxis": {
             "endlinecolor": "#2a3f5f",
             "gridcolor": "white",
             "linecolor": "white",
             "minorgridcolor": "white",
             "startlinecolor": "#2a3f5f"
            },
            "type": "carpet"
           }
          ],
          "choropleth": [
           {
            "colorbar": {
             "outlinewidth": 0,
             "ticks": ""
            },
            "type": "choropleth"
           }
          ],
          "contour": [
           {
            "colorbar": {
             "outlinewidth": 0,
             "ticks": ""
            },
            "colorscale": [
             [
              0,
              "#0d0887"
             ],
             [
              0.1111111111111111,
              "#46039f"
             ],
             [
              0.2222222222222222,
              "#7201a8"
             ],
             [
              0.3333333333333333,
              "#9c179e"
             ],
             [
              0.4444444444444444,
              "#bd3786"
             ],
             [
              0.5555555555555556,
              "#d8576b"
             ],
             [
              0.6666666666666666,
              "#ed7953"
             ],
             [
              0.7777777777777778,
              "#fb9f3a"
             ],
             [
              0.8888888888888888,
              "#fdca26"
             ],
             [
              1,
              "#f0f921"
             ]
            ],
            "type": "contour"
           }
          ],
          "contourcarpet": [
           {
            "colorbar": {
             "outlinewidth": 0,
             "ticks": ""
            },
            "type": "contourcarpet"
           }
          ],
          "heatmap": [
           {
            "colorbar": {
             "outlinewidth": 0,
             "ticks": ""
            },
            "colorscale": [
             [
              0,
              "#0d0887"
             ],
             [
              0.1111111111111111,
              "#46039f"
             ],
             [
              0.2222222222222222,
              "#7201a8"
             ],
             [
              0.3333333333333333,
              "#9c179e"
             ],
             [
              0.4444444444444444,
              "#bd3786"
             ],
             [
              0.5555555555555556,
              "#d8576b"
             ],
             [
              0.6666666666666666,
              "#ed7953"
             ],
             [
              0.7777777777777778,
              "#fb9f3a"
             ],
             [
              0.8888888888888888,
              "#fdca26"
             ],
             [
              1,
              "#f0f921"
             ]
            ],
            "type": "heatmap"
           }
          ],
          "heatmapgl": [
           {
            "colorbar": {
             "outlinewidth": 0,
             "ticks": ""
            },
            "colorscale": [
             [
              0,
              "#0d0887"
             ],
             [
              0.1111111111111111,
              "#46039f"
             ],
             [
              0.2222222222222222,
              "#7201a8"
             ],
             [
              0.3333333333333333,
              "#9c179e"
             ],
             [
              0.4444444444444444,
              "#bd3786"
             ],
             [
              0.5555555555555556,
              "#d8576b"
             ],
             [
              0.6666666666666666,
              "#ed7953"
             ],
             [
              0.7777777777777778,
              "#fb9f3a"
             ],
             [
              0.8888888888888888,
              "#fdca26"
             ],
             [
              1,
              "#f0f921"
             ]
            ],
            "type": "heatmapgl"
           }
          ],
          "histogram": [
           {
            "marker": {
             "pattern": {
              "fillmode": "overlay",
              "size": 10,
              "solidity": 0.2
             }
            },
            "type": "histogram"
           }
          ],
          "histogram2d": [
           {
            "colorbar": {
             "outlinewidth": 0,
             "ticks": ""
            },
            "colorscale": [
             [
              0,
              "#0d0887"
             ],
             [
              0.1111111111111111,
              "#46039f"
             ],
             [
              0.2222222222222222,
              "#7201a8"
             ],
             [
              0.3333333333333333,
              "#9c179e"
             ],
             [
              0.4444444444444444,
              "#bd3786"
             ],
             [
              0.5555555555555556,
              "#d8576b"
             ],
             [
              0.6666666666666666,
              "#ed7953"
             ],
             [
              0.7777777777777778,
              "#fb9f3a"
             ],
             [
              0.8888888888888888,
              "#fdca26"
             ],
             [
              1,
              "#f0f921"
             ]
            ],
            "type": "histogram2d"
           }
          ],
          "histogram2dcontour": [
           {
            "colorbar": {
             "outlinewidth": 0,
             "ticks": ""
            },
            "colorscale": [
             [
              0,
              "#0d0887"
             ],
             [
              0.1111111111111111,
              "#46039f"
             ],
             [
              0.2222222222222222,
              "#7201a8"
             ],
             [
              0.3333333333333333,
              "#9c179e"
             ],
             [
              0.4444444444444444,
              "#bd3786"
             ],
             [
              0.5555555555555556,
              "#d8576b"
             ],
             [
              0.6666666666666666,
              "#ed7953"
             ],
             [
              0.7777777777777778,
              "#fb9f3a"
             ],
             [
              0.8888888888888888,
              "#fdca26"
             ],
             [
              1,
              "#f0f921"
             ]
            ],
            "type": "histogram2dcontour"
           }
          ],
          "mesh3d": [
           {
            "colorbar": {
             "outlinewidth": 0,
             "ticks": ""
            },
            "type": "mesh3d"
           }
          ],
          "parcoords": [
           {
            "line": {
             "colorbar": {
              "outlinewidth": 0,
              "ticks": ""
             }
            },
            "type": "parcoords"
           }
          ],
          "pie": [
           {
            "automargin": true,
            "type": "pie"
           }
          ],
          "scatter": [
           {
            "marker": {
             "colorbar": {
              "outlinewidth": 0,
              "ticks": ""
             }
            },
            "type": "scatter"
           }
          ],
          "scatter3d": [
           {
            "line": {
             "colorbar": {
              "outlinewidth": 0,
              "ticks": ""
             }
            },
            "marker": {
             "colorbar": {
              "outlinewidth": 0,
              "ticks": ""
             }
            },
            "type": "scatter3d"
           }
          ],
          "scattercarpet": [
           {
            "marker": {
             "colorbar": {
              "outlinewidth": 0,
              "ticks": ""
             }
            },
            "type": "scattercarpet"
           }
          ],
          "scattergeo": [
           {
            "marker": {
             "colorbar": {
              "outlinewidth": 0,
              "ticks": ""
             }
            },
            "type": "scattergeo"
           }
          ],
          "scattergl": [
           {
            "marker": {
             "colorbar": {
              "outlinewidth": 0,
              "ticks": ""
             }
            },
            "type": "scattergl"
           }
          ],
          "scattermapbox": [
           {
            "marker": {
             "colorbar": {
              "outlinewidth": 0,
              "ticks": ""
             }
            },
            "type": "scattermapbox"
           }
          ],
          "scatterpolar": [
           {
            "marker": {
             "colorbar": {
              "outlinewidth": 0,
              "ticks": ""
             }
            },
            "type": "scatterpolar"
           }
          ],
          "scatterpolargl": [
           {
            "marker": {
             "colorbar": {
              "outlinewidth": 0,
              "ticks": ""
             }
            },
            "type": "scatterpolargl"
           }
          ],
          "scatterternary": [
           {
            "marker": {
             "colorbar": {
              "outlinewidth": 0,
              "ticks": ""
             }
            },
            "type": "scatterternary"
           }
          ],
          "surface": [
           {
            "colorbar": {
             "outlinewidth": 0,
             "ticks": ""
            },
            "colorscale": [
             [
              0,
              "#0d0887"
             ],
             [
              0.1111111111111111,
              "#46039f"
             ],
             [
              0.2222222222222222,
              "#7201a8"
             ],
             [
              0.3333333333333333,
              "#9c179e"
             ],
             [
              0.4444444444444444,
              "#bd3786"
             ],
             [
              0.5555555555555556,
              "#d8576b"
             ],
             [
              0.6666666666666666,
              "#ed7953"
             ],
             [
              0.7777777777777778,
              "#fb9f3a"
             ],
             [
              0.8888888888888888,
              "#fdca26"
             ],
             [
              1,
              "#f0f921"
             ]
            ],
            "type": "surface"
           }
          ],
          "table": [
           {
            "cells": {
             "fill": {
              "color": "#EBF0F8"
             },
             "line": {
              "color": "white"
             }
            },
            "header": {
             "fill": {
              "color": "#C8D4E3"
             },
             "line": {
              "color": "white"
             }
            },
            "type": "table"
           }
          ]
         },
         "layout": {
          "annotationdefaults": {
           "arrowcolor": "#2a3f5f",
           "arrowhead": 0,
           "arrowwidth": 1
          },
          "autotypenumbers": "strict",
          "coloraxis": {
           "colorbar": {
            "outlinewidth": 0,
            "ticks": ""
           }
          },
          "colorscale": {
           "diverging": [
            [
             0,
             "#8e0152"
            ],
            [
             0.1,
             "#c51b7d"
            ],
            [
             0.2,
             "#de77ae"
            ],
            [
             0.3,
             "#f1b6da"
            ],
            [
             0.4,
             "#fde0ef"
            ],
            [
             0.5,
             "#f7f7f7"
            ],
            [
             0.6,
             "#e6f5d0"
            ],
            [
             0.7,
             "#b8e186"
            ],
            [
             0.8,
             "#7fbc41"
            ],
            [
             0.9,
             "#4d9221"
            ],
            [
             1,
             "#276419"
            ]
           ],
           "sequential": [
            [
             0,
             "#0d0887"
            ],
            [
             0.1111111111111111,
             "#46039f"
            ],
            [
             0.2222222222222222,
             "#7201a8"
            ],
            [
             0.3333333333333333,
             "#9c179e"
            ],
            [
             0.4444444444444444,
             "#bd3786"
            ],
            [
             0.5555555555555556,
             "#d8576b"
            ],
            [
             0.6666666666666666,
             "#ed7953"
            ],
            [
             0.7777777777777778,
             "#fb9f3a"
            ],
            [
             0.8888888888888888,
             "#fdca26"
            ],
            [
             1,
             "#f0f921"
            ]
           ],
           "sequentialminus": [
            [
             0,
             "#0d0887"
            ],
            [
             0.1111111111111111,
             "#46039f"
            ],
            [
             0.2222222222222222,
             "#7201a8"
            ],
            [
             0.3333333333333333,
             "#9c179e"
            ],
            [
             0.4444444444444444,
             "#bd3786"
            ],
            [
             0.5555555555555556,
             "#d8576b"
            ],
            [
             0.6666666666666666,
             "#ed7953"
            ],
            [
             0.7777777777777778,
             "#fb9f3a"
            ],
            [
             0.8888888888888888,
             "#fdca26"
            ],
            [
             1,
             "#f0f921"
            ]
           ]
          },
          "colorway": [
           "#636efa",
           "#EF553B",
           "#00cc96",
           "#ab63fa",
           "#FFA15A",
           "#19d3f3",
           "#FF6692",
           "#B6E880",
           "#FF97FF",
           "#FECB52"
          ],
          "font": {
           "color": "#2a3f5f"
          },
          "geo": {
           "bgcolor": "white",
           "lakecolor": "white",
           "landcolor": "#E5ECF6",
           "showlakes": true,
           "showland": true,
           "subunitcolor": "white"
          },
          "hoverlabel": {
           "align": "left"
          },
          "hovermode": "closest",
          "mapbox": {
           "style": "light"
          },
          "paper_bgcolor": "white",
          "plot_bgcolor": "#E5ECF6",
          "polar": {
           "angularaxis": {
            "gridcolor": "white",
            "linecolor": "white",
            "ticks": ""
           },
           "bgcolor": "#E5ECF6",
           "radialaxis": {
            "gridcolor": "white",
            "linecolor": "white",
            "ticks": ""
           }
          },
          "scene": {
           "xaxis": {
            "backgroundcolor": "#E5ECF6",
            "gridcolor": "white",
            "gridwidth": 2,
            "linecolor": "white",
            "showbackground": true,
            "ticks": "",
            "zerolinecolor": "white"
           },
           "yaxis": {
            "backgroundcolor": "#E5ECF6",
            "gridcolor": "white",
            "gridwidth": 2,
            "linecolor": "white",
            "showbackground": true,
            "ticks": "",
            "zerolinecolor": "white"
           },
           "zaxis": {
            "backgroundcolor": "#E5ECF6",
            "gridcolor": "white",
            "gridwidth": 2,
            "linecolor": "white",
            "showbackground": true,
            "ticks": "",
            "zerolinecolor": "white"
           }
          },
          "shapedefaults": {
           "line": {
            "color": "#2a3f5f"
           }
          },
          "ternary": {
           "aaxis": {
            "gridcolor": "white",
            "linecolor": "white",
            "ticks": ""
           },
           "baxis": {
            "gridcolor": "white",
            "linecolor": "white",
            "ticks": ""
           },
           "bgcolor": "#E5ECF6",
           "caxis": {
            "gridcolor": "white",
            "linecolor": "white",
            "ticks": ""
           }
          },
          "title": {
           "x": 0.05
          },
          "xaxis": {
           "automargin": true,
           "gridcolor": "white",
           "linecolor": "white",
           "ticks": "",
           "title": {
            "standoff": 15
           },
           "zerolinecolor": "white",
           "zerolinewidth": 2
          },
          "yaxis": {
           "automargin": true,
           "gridcolor": "white",
           "linecolor": "white",
           "ticks": "",
           "title": {
            "standoff": 15
           },
           "zerolinecolor": "white",
           "zerolinewidth": 2
          }
         }
        }
       }
      }
     },
     "metadata": {},
     "output_type": "display_data"
    }
   ],
   "source": [
    "y_shap_abs_min = 0.001\n",
    "between_step_corr_min = 0.8\n",
    "show_causation_chart(type3_relations, y_shap_abs_min, between_step_corr_min)\n",
    "\n"
   ]
  },
  {
   "cell_type": "code",
   "execution_count": null,
   "metadata": {
    "collapsed": false,
    "jupyter": {
     "outputs_hidden": false
    },
    "pycharm": {
     "name": "#%%\n"
    }
   },
   "outputs": [],
   "source": []
  }
 ],
 "metadata": {
  "kernelspec": {
   "display_name": "Python 3 (ipykernel)",
   "language": "python",
   "name": "python3"
  },
  "language_info": {
   "codemirror_mode": {
    "name": "ipython",
    "version": 3
   },
   "file_extension": ".py",
   "mimetype": "text/x-python",
   "name": "python",
   "nbconvert_exporter": "python",
   "pygments_lexer": "ipython3",
   "version": "3.8.12"
  }
 },
 "nbformat": 4,
 "nbformat_minor": 4
}
